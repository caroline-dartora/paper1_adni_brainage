{
 "cells": [
  {
   "cell_type": "markdown",
   "id": "e1f15868",
   "metadata": {},
   "source": [
    "# Selection of PET FDG images to process"
   ]
  },
  {
   "cell_type": "code",
   "execution_count": 1,
   "id": "9beccaf6",
   "metadata": {},
   "outputs": [],
   "source": [
    "import os\n",
    "import pandas as pd \n",
    "import numpy as np\n",
    "from tableone import TableOne"
   ]
  },
  {
   "cell_type": "code",
   "execution_count": 2,
   "id": "1544a06f",
   "metadata": {},
   "outputs": [],
   "source": [
    "dir = '/scratch/caroline/papers/ongoing/project00/ADNI_analysis/data'\n",
    "adni1 = pd.read_csv(os.path.join(dir, 'adni_fdg_pet_selection.csv'))"
   ]
  },
  {
   "cell_type": "markdown",
   "id": "91518e52",
   "metadata": {},
   "source": [
    "## Organize data"
   ]
  },
  {
   "cell_type": "code",
   "execution_count": 3,
   "id": "6d7f832e",
   "metadata": {},
   "outputs": [],
   "source": [
    "# Remove unnecessary columns\n",
    "adni2 = adni1.drop(columns=['0','2','3','5', 'time', 'time0', 'date0']) \n",
    "# Rename id columns\n",
    "adni2 = adni2.rename(columns={'4':'Other_ID', 'date':'fdg_scandate'})\n",
    "\n",
    "#Organize order\n",
    "adni2 = adni2[['project', 'Individual', 'AltId', 'Other_ID','ID', 'TimePoint', 'GUID', 'freesurfer_6_0_0_aparc_thickness_GUID',  \n",
    "               'scandate',  'fdg_scandate', 'date_diff', 'HMSTROKE', 'DXPARK','MMSCORE', 'CDGLOBAL', 'PTDOBMM', 'PTDOBYY']]"
   ]
  },
  {
   "cell_type": "code",
   "execution_count": 4,
   "id": "8c3821f8",
   "metadata": {},
   "outputs": [],
   "source": [
    "# Step 1: Drop rows with missing month or year of birth\n",
    "adni3 = adni2.dropna(subset=[\"PTDOBMM\", \"PTDOBYY\"]).copy()  \n",
    "\n",
    "#change to integer\n",
    "adni3[['PTDOBMM', 'PTDOBYY']] = adni3[['PTDOBMM', 'PTDOBYY']].astype(np.int64)\n",
    "\n",
    "# put MM and YY of birth together and change to datetime format\n",
    "adni3['DOB'] = adni3['PTDOBYY'].astype(str) + adni3['PTDOBMM'].astype(str)\n",
    "adni3['DOB'] = pd.to_datetime(adni3['DOB'], format='%Y%m')\n"
   ]
  },
  {
   "cell_type": "code",
   "execution_count": 5,
   "id": "804f50df",
   "metadata": {},
   "outputs": [],
   "source": [
    "adni3['fdg_scandate'] = pd.to_datetime(adni3['fdg_scandate'])\n",
    "adni3['scandate'] = pd.to_datetime(adni3['scandate'])\n",
    "\n",
    "# Calculate age at FDG scan\n",
    "adni3['age_FDG'] = adni3['fdg_scandate'] - adni3['DOB']\n",
    "adni3['age_FDG'] = adni3['age_FDG']/pd.Timedelta('365.25 days')\n",
    "adni3['age_FDG'] = adni3['age_FDG'].round(2)\n",
    "# Calculate age at MRI scan\n",
    "adni3['age_MRI'] = adni3['scandate'] - adni3['DOB']\n",
    "adni3['age_MRI'] = adni3['age_MRI']/pd.Timedelta('365.25 days')\n",
    "adni3['age_MRI'] = adni3['age_MRI'].round(2)\n",
    "#1446 Ids\n"
   ]
  },
  {
   "cell_type": "code",
   "execution_count": 6,
   "id": "f77761be",
   "metadata": {},
   "outputs": [],
   "source": [
    "adni3 = adni3[(adni3['HMSTROKE']==0)].copy()"
   ]
  },
  {
   "cell_type": "code",
   "execution_count": 7,
   "id": "c9902bba",
   "metadata": {},
   "outputs": [],
   "source": [
    "fs_keys = adni3[['freesurfer_6_0_0_aparc_thickness_GUID']]"
   ]
  },
  {
   "cell_type": "markdown",
   "id": "09efc6a2",
   "metadata": {},
   "source": [
    "## Organize MOCA\n",
    "#https://www.smchealth.org/sites/main/files/file-attachments/moca-instructions-english_2010.pdf\n",
    "#https://www.smchealth.org/sites/main/files/file-attachments/moca-instructions-english_2010.pdf"
   ]
  },
  {
   "cell_type": "code",
   "execution_count": 8,
   "id": "b241140c",
   "metadata": {},
   "outputs": [],
   "source": [
    "moca_df = pd.read_csv(os.path.join(dir, 'adni_moca_20250612.csv'))\n",
    "moca_df = moca_df[moca_df['Phase'].notna()]\n",
    "#ADjust variables\n",
    "moca_df = moca_df.drop(columns=['IMMT1W1', 'IMMT1W2', 'IMMT1W3', 'IMMT1W4', 'IMMT1W5', 'IMMT2W1', 'IMMT2W2', 'IMMT2W3', 'IMMT2W4', 'IMMT2W5' ])\n",
    "\n",
    "# Letters = 0 or 1 error gives 1 point, else is 0\n",
    "moca_df['letters_bi'] = np.where(moca_df['LETTERS'].isin([0, 1]), 1, 0)\n",
    "moca_df = moca_df.drop(columns=['LETTERS'])\n",
    "\n",
    "#FLUENCY\n",
    "# if more than 0 < 11 < 1\n",
    "moca_df['fluency'] = (moca_df['FFLUENCY'] >= 11).astype(int)\n",
    "moca_df = moca_df.drop(columns=['FFLUENCY'])\n",
    "\n",
    "# SERIAL \n",
    "#Give no (0) points for no correct subtractions, 1 point for one correction subtraction, 2 points for two-to-three correct subtractions, and 3 points if the participant successfully makes four or five correct subtractions\n",
    "serial_cols = [col for col in moca_df.columns if col.startswith('SERIAL')]\n",
    "moca_df['serial_sum'] = moca_df[serial_cols].sum(axis=1)\n",
    "moca_df['serial_sum'] = np.where(moca_df['serial_sum'].isin([4, 5]), 3, 0)\n",
    "moca_df = moca_df.drop(columns=['SERIAL1', 'SERIAL2', 'SERIAL3', 'SERIAL4', 'SERIAL5'])\n",
    "\n",
    "#DEL\n",
    "# 1=Correct with No Cue; 2=Correct with Category Cue; 3=Correct with Mult. Choice Cue; 0=Incorrect\n",
    "# 1 point only with correct with no cue\n",
    "moca_df['delw1'] = (moca_df['DELW1'] == 1).astype(int)\n",
    "moca_df['delw2'] = (moca_df['DELW2'] == 1).astype(int)\n",
    "moca_df['delw3'] = (moca_df['DELW3'] == 1).astype(int)\n",
    "moca_df['delw4'] = (moca_df['DELW4'] == 1).astype(int)\n",
    "moca_df['delw5'] = (moca_df['DELW5'] == 1).astype(int)\n",
    "moca_df = moca_df.drop(columns=['DELW1', 'DELW2', 'DELW3', 'DELW4', 'DELW5'])\n",
    "\n",
    "moca_df['moca_score'] = moca_df.iloc[:,8:].sum(axis=1)\n"
   ]
  },
  {
   "cell_type": "code",
   "execution_count": 9,
   "id": "2e7e97c4",
   "metadata": {
    "vscode": {
     "languageId": "ruby"
    }
   },
   "outputs": [],
   "source": [
    "# put moca together with the data \n",
    "moca_df_short = moca_df[['freesurfer_6_0_0_aparc_thickness_GUID', 'moca_score']]\n",
    "adni4 = pd.merge(adni3, moca_df_short, on= 'freesurfer_6_0_0_aparc_thickness_GUID', how='left')"
   ]
  },
  {
   "cell_type": "code",
   "execution_count": 10,
   "id": "2b37bd26",
   "metadata": {
    "vscode": {
     "languageId": "ruby"
    }
   },
   "outputs": [],
   "source": [
    "#adni4"
   ]
  },
  {
   "cell_type": "markdown",
   "id": "c6501d91",
   "metadata": {},
   "source": [
    "## Merge ADNI with biological data\n",
    "Amyloid SUVR\n",
    "ptau181 : https://pubmed.ncbi.nlm.nih.gov/32333900/\n",
    "          https://pubmed.ncbi.nlm.nih.gov/29626426/\n",
    "          https://adni.bitbucket.io/reference/docs/UGOTPTAU181/UGOT_Lab_-_ADNI_1-Go-2_-_Method_-_Plasma_P-tau181_longitudinal.pdf\n",
    "Alpha-synuclein"
   ]
  },
  {
   "cell_type": "code",
   "execution_count": 11,
   "id": "12c10d86",
   "metadata": {},
   "outputs": [
    {
     "name": "stderr",
     "output_type": "stream",
     "text": [
      "/tmp/ipykernel_3921706/2394710732.py:6: UserWarning: Could not infer format, so each element will be parsed individually, falling back to `dateutil`. To ensure parsing is consistent and as-expected, please specify a format.\n",
      "  adni_bio['EXAMDATE_SUVR1.08'] = pd.to_datetime(adni_bio['EXAMDATE.2'], errors='coerce')\n"
     ]
    }
   ],
   "source": [
    "#Load\n",
    "adni_bio = pd.read_csv(os.path.join(dir, 'ADNI_BIOMARKERS_SUV_TAU_20250613.csv'))\n",
    "# Be sure dates are in the right format\n",
    "adni_bio['EXAMDATE_asyn'] = pd.to_datetime(adni_bio['EXAMDATE'], errors='coerce')\n",
    "adni_bio['EXAMDATE_SUVR1.11'] = pd.to_datetime(adni_bio['EXAMDATE.1'], errors='coerce')\n",
    "adni_bio['EXAMDATE_SUVR1.08'] = pd.to_datetime(adni_bio['EXAMDATE.2'], errors='coerce')\n",
    "adni_bio['EXAMDATE_ptau181'] = pd.to_datetime(adni_bio['EXAMDATE.3'], errors='coerce')\n",
    "# Exclude the examdate in wrong format\n",
    "adni_bio = adni_bio.drop(columns=['EXAMDATE', 'EXAMDATE.1','EXAMDATE.2','EXAMDATE.3', 'registry_vdate'])\n",
    "# rename columns\n",
    "adni_bio = adni_bio.rename(columns={'Result': 'alpha_syn'})"
   ]
  },
  {
   "cell_type": "code",
   "execution_count": 12,
   "id": "f44126ba",
   "metadata": {
    "vscode": {
     "languageId": "ruby"
    }
   },
   "outputs": [],
   "source": [
    "# Create 'amy_status' using the first non-null value from the two columns\n",
    "adni_bio['amy_status'] = np.where(pd.notna(adni_bio['SUMMARYSUVR_WHOLECEREBNORM_1.11CUTOFF']),\n",
    "                                           adni_bio['SUMMARYSUVR_WHOLECEREBNORM_1.11CUTOFF'],\n",
    "                                           adni_bio['SUMMARYSUVR_WHOLECEREBNORM_1.08CUTOFF'])\n"
   ]
  },
  {
   "cell_type": "code",
   "execution_count": 13,
   "id": "bcd01c5c",
   "metadata": {
    "vscode": {
     "languageId": "ruby"
    }
   },
   "outputs": [],
   "source": [
    "adni_bio_short = adni_bio[['freesurfer_6_0_0_aparc_thickness_GUID', \n",
    "                           'amy_status', 'PLASMAPTAU181','alpha_syn']]\n",
    "\n",
    "adni5 = pd.merge(adni4, adni_bio_short, on= 'freesurfer_6_0_0_aparc_thickness_GUID', how='left')"
   ]
  },
  {
   "cell_type": "code",
   "execution_count": 14,
   "id": "73c565bb",
   "metadata": {
    "vscode": {
     "languageId": "ruby"
    }
   },
   "outputs": [],
   "source": [
    "#adni5.info()"
   ]
  },
  {
   "cell_type": "markdown",
   "id": "9820ad21",
   "metadata": {},
   "source": [
    "# Diagnosis\n"
   ]
  },
  {
   "cell_type": "code",
   "execution_count": 26,
   "id": "59c38ac3",
   "metadata": {
    "vscode": {
     "languageId": "ruby"
    }
   },
   "outputs": [],
   "source": [
    "# Load\n",
    "adni_diag = pd.read_csv(os.path.join(dir, 'ADNI_DIAGNOSIS_20250616.csv'))\n",
    "\n",
    "#change missing to na, and None to na\n",
    "adni_diag = adni_diag.replace('None', np.nan)\n",
    "adni_diag = adni_diag.replace(-4, np.nan)\n",
    "adni_diag = adni_diag.replace('-4', np.nan)\n",
    "\n",
    "#Diagnosis status\n",
    "\n",
    "# varibale 'diag_current' is based on DIAGNOSIS and DXCURREN variables that should be the same\n",
    "adni_diag['diag_current'] = np.where(pd.notna(adni_diag['DIAGNOSIS']),\n",
    "                             adni_diag['DIAGNOSIS'],\n",
    "                             adni_diag['DXCURREN'])\n",
    "\n",
    "# variable diag_change is based on diag_current and DXCHANGE\n",
    "adni_diag['diag_change'] = np.where(pd.notna(adni_diag['diag_current']),\n",
    "                             adni_diag['diag_current'],\n",
    "                             adni_diag['DXCHANGE'])\n",
    "\n",
    "adni_diag['diagnosis_CD_raw'] = adni_diag['diag_change']"
   ]
  },
  {
   "cell_type": "markdown",
   "id": "21e5991f",
   "metadata": {},
   "source": [
    "- Dictionary\n",
    "- DXCHANGE:  Which best describes the participant's change in cognitive status from last visit to current visit:\n",
    " 1=Stable: NL to NL; 2=Stable: MCI to MCI; 3=Stable: Dementia to Dementia; 4=Conversion: NL to MCI; 5=Conversion: MCI to Dementia; 6=Conversion: NL to Dementia; 7=Reversion: MCI to NL; 8=Reversion: Dementia to MCI; 9=Reversion: Dementia to NL\n",
    "- DXCURREN:\n",
    " 1=NL;2=MCI;3=AD\n",
    "- DXCONV: Has there been a conversion or reversion to NL/MCI?\n",
    " 1=Yes - Conversion;2=Yes - Reversion; 0=No\n",
    "- DXREV:  If YES - REVERSION, choose type\n",
    " 1=MCI to Normal Control; 2=AD to MCI; 3=AD to Normal Control\n",
    "- DXNORM: Normal\n",
    " 1=Yes\n",
    "- DXMCI: \n",
    " 1=Yes\n",
    "- DXMDES: If Mild Cognitive Impairment, select any that apply:\n",
    " 1=MCI - Memory features (amnestic); 2=MCI - Non-memory features (non-amnestic)\n",
    " 1=MCI (Memory features); 2=MCI (Non-memory features)\n",
    "- DXMPTR1: If MCI - Memory features, complete the following (Petersen Criteria, see procedures manual for details): i. Subjective memory complaint\n",
    " 1=Yes; 0=No\n",
    "- DXMDUE: suspected cause of MCI\n",
    " 1=MCI due to Alzheimer's Disease; 2=MCI due to other etiology\n",
    "- DXMOTHET: If MCI due to other etiology, select box(es) to indicate reason:\n",
    " 1=Fronto-temporal Dementia; 2=Parkinson's Disease; 3=Huntington's Disease; 4=Progressive Supranuclear Palsy; 8=Corticobasal Degeneration; 9=Vascular Dementia; 10=Prion-Associated Dementia; 14=Other (specify)\n",
    "- DXDDUE:  3b. Suspected cause of dementia\n",
    " 1=Dementia due to Alzheimer's Disease; 2=Dementia due to other etiology\n",
    "- DXAD: Alzheimer's disease\n",
    " 1=Yes\n",
    "- DXAPP: If Dementia due to Alzheimer's Disease, indicate likelihood:\n",
    " 1=Probable; 2=Possible\n",
    "- DXAPOSS: If Possible AD, select box(es) to indicate reason:\n",
    " 1=Atypical clinical course or features (specify); 2=Stroke(s); 3=Depression; 4=Delirium; 5=Parkinsonism; 6=Metabolic / Toxic Disorder (specify); 7=Other (specify)\n",
    "- DXPARK:  4b. Parkinsonism symptoms present?\n",
    " 1=Yes; 0=No\n",
    "- DXODES:  If Other Dementia, select box which indicates best diagnosis:\n",
    " 1=Frontal; 3=Huntington's Disease; 5=Alcohol-related Dementia; 6=NPH; 7=Major Depression; 9=Vascular Dementia; 10=Prion-Associated Dementia; 11=HIV; 12=Primary Progressive Aphasia; 13=Posterior Cortical Dysfunction; 14=Other (specify)\n",
    "- DIAGNOSIS: 1. Which best describes the participant's current diagnosis?\n",
    " 1=CN; 2=MCI; 3=Dementia\n",
    "- BCSTROKE: 10. Did subject have a stroke? ( Diagnostic Summary - Baseline Changes)\n",
    " 1=Yes; 0=No"
   ]
  },
  {
   "cell_type": "code",
   "execution_count": 27,
   "id": "ef173619",
   "metadata": {
    "vscode": {
     "languageId": "ruby"
    }
   },
   "outputs": [],
   "source": [
    "#Remove Ids with parkinsonism and stroke\n",
    "adni_diag = adni_diag.dropna(subset=['DXPARK','BCSTROKE'])\n",
    "adni_diag = adni_diag[(adni_diag['DXPARK'] == 0) & (adni_diag['BCSTROKE'] == 0)].copy()\n"
   ]
  },
  {
   "cell_type": "code",
   "execution_count": 28,
   "id": "3f1fd6cf",
   "metadata": {
    "vscode": {
     "languageId": "ruby"
    }
   },
   "outputs": [
    {
     "name": "stderr",
     "output_type": "stream",
     "text": [
      "/scratch/caroline/opt/miniconda3/envs/workspace/lib/python3.12/site-packages/tableone/preprocessors.py:45: RuntimeWarning: invalid value encountered in divide\n",
      "  likely_flag = 1.0 * data[var].nunique()/data[var].count() < 0.005\n"
     ]
    },
    {
     "name": "stdout",
     "output_type": "stream",
     "text": [
      "╒═════════════════════════╤══════╤═══════════╤══════════════╕\n",
      "│                         │      │ Missing   │ Overall      │\n",
      "╞═════════════════════════╪══════╪═══════════╪══════════════╡\n",
      "│ n                       │      │           │ 8695         │\n",
      "├─────────────────────────┼──────┼───────────┼──────────────┤\n",
      "│ diagnosis_CD_raw, n (%) │ 1.0  │           │ 3069 (35.3)  │\n",
      "├─────────────────────────┼──────┼───────────┼──────────────┤\n",
      "│                         │ 2.0  │           │ 3888 (44.7)  │\n",
      "├─────────────────────────┼──────┼───────────┼──────────────┤\n",
      "│                         │ 3.0  │           │ 1227 (14.1)  │\n",
      "├─────────────────────────┼──────┼───────────┼──────────────┤\n",
      "│                         │ 4.0  │           │ 134 (1.5)    │\n",
      "├─────────────────────────┼──────┼───────────┼──────────────┤\n",
      "│                         │ 5.0  │           │ 276 (3.2)    │\n",
      "├─────────────────────────┼──────┼───────────┼──────────────┤\n",
      "│                         │ 7.0  │           │ 91 (1.0)     │\n",
      "├─────────────────────────┼──────┼───────────┼──────────────┤\n",
      "│                         │ 8.0  │           │ 10 (0.1)     │\n",
      "├─────────────────────────┼──────┼───────────┼──────────────┤\n",
      "│ diag_current, mean (SD) │      │ 8180      │ 1.4 (0.6)    │\n",
      "├─────────────────────────┼──────┼───────────┼──────────────┤\n",
      "│ diag_change, n (%)      │ 1.0  │           │ 3069 (35.3)  │\n",
      "├─────────────────────────┼──────┼───────────┼──────────────┤\n",
      "│                         │ 2.0  │           │ 3888 (44.7)  │\n",
      "├─────────────────────────┼──────┼───────────┼──────────────┤\n",
      "│                         │ 3.0  │           │ 1227 (14.1)  │\n",
      "├─────────────────────────┼──────┼───────────┼──────────────┤\n",
      "│                         │ 4.0  │           │ 134 (1.5)    │\n",
      "├─────────────────────────┼──────┼───────────┼──────────────┤\n",
      "│                         │ 5.0  │           │ 276 (3.2)    │\n",
      "├─────────────────────────┼──────┼───────────┼──────────────┤\n",
      "│                         │ 7.0  │           │ 91 (1.0)     │\n",
      "├─────────────────────────┼──────┼───────────┼──────────────┤\n",
      "│                         │ 8.0  │           │ 10 (0.1)     │\n",
      "├─────────────────────────┼──────┼───────────┼──────────────┤\n",
      "│ DXCHANGE, n (%)         │ 1.0  │           │ 2733 (31.4)  │\n",
      "├─────────────────────────┼──────┼───────────┼──────────────┤\n",
      "│                         │ 2.0  │           │ 3739 (43.0)  │\n",
      "├─────────────────────────┼──────┼───────────┼──────────────┤\n",
      "│                         │ 3.0  │           │ 1197 (13.8)  │\n",
      "├─────────────────────────┼──────┼───────────┼──────────────┤\n",
      "│                         │ 4.0  │           │ 134 (1.5)    │\n",
      "├─────────────────────────┼──────┼───────────┼──────────────┤\n",
      "│                         │ 5.0  │           │ 276 (3.2)    │\n",
      "├─────────────────────────┼──────┼───────────┼──────────────┤\n",
      "│                         │ 7.0  │           │ 91 (1.0)     │\n",
      "├─────────────────────────┼──────┼───────────┼──────────────┤\n",
      "│                         │ 8.0  │           │ 10 (0.1)     │\n",
      "├─────────────────────────┼──────┼───────────┼──────────────┤\n",
      "│                         │ None │           │ 515 (5.9)    │\n",
      "├─────────────────────────┼──────┼───────────┼──────────────┤\n",
      "│ DXCURREN, mean (SD)     │      │ 8695      │ nan (nan)    │\n",
      "├─────────────────────────┼──────┼───────────┼──────────────┤\n",
      "│ DXCONV, mean (SD)       │      │ 8695      │ nan (nan)    │\n",
      "├─────────────────────────┼──────┼───────────┼──────────────┤\n",
      "│ DXREV, mean (SD)        │      │ 8695      │ nan (nan)    │\n",
      "├─────────────────────────┼──────┼───────────┼──────────────┤\n",
      "│ DXNORM, mean (SD)       │      │ 8695      │ nan (nan)    │\n",
      "├─────────────────────────┼──────┼───────────┼──────────────┤\n",
      "│ DXMCI, mean (SD)        │      │ 8695      │ nan (nan)    │\n",
      "├─────────────────────────┼──────┼───────────┼──────────────┤\n",
      "│ DXMDES, n (%)           │ 1    │           │ 3744 (43.1)  │\n",
      "├─────────────────────────┼──────┼───────────┼──────────────┤\n",
      "│                         │ 1:2  │           │ 226 (2.6)    │\n",
      "├─────────────────────────┼──────┼───────────┼──────────────┤\n",
      "│                         │ 1|2  │           │ 12 (0.1)     │\n",
      "├─────────────────────────┼──────┼───────────┼──────────────┤\n",
      "│                         │ 2    │           │ 49 (0.6)     │\n",
      "├─────────────────────────┼──────┼───────────┼──────────────┤\n",
      "│                         │ None │           │ 4664 (53.6)  │\n",
      "├─────────────────────────┼──────┼───────────┼──────────────┤\n",
      "│ DXMPTR1, n (%)          │ 0.0  │           │ 89 (1.0)     │\n",
      "├─────────────────────────┼──────┼───────────┼──────────────┤\n",
      "│                         │ 1.0  │           │ 3896 (44.8)  │\n",
      "├─────────────────────────┼──────┼───────────┼──────────────┤\n",
      "│                         │ None │           │ 4710 (54.2)  │\n",
      "├─────────────────────────┼──────┼───────────┼──────────────┤\n",
      "│ DXMDUE, n (%)           │ 1.0  │           │ 3846 (44.2)  │\n",
      "├─────────────────────────┼──────┼───────────┼──────────────┤\n",
      "│                         │ 2.0  │           │ 184 (2.1)    │\n",
      "├─────────────────────────┼──────┼───────────┼──────────────┤\n",
      "│                         │ None │           │ 4665 (53.7)  │\n",
      "├─────────────────────────┼──────┼───────────┼──────────────┤\n",
      "│ DXMOTHET, n (%)         │ 12   │           │ 1 (0.0)      │\n",
      "├─────────────────────────┼──────┼───────────┼──────────────┤\n",
      "│                         │ 14   │           │ 133 (1.5)    │\n",
      "├─────────────────────────┼──────┼───────────┼──────────────┤\n",
      "│                         │ 7    │           │ 13 (0.1)     │\n",
      "├─────────────────────────┼──────┼───────────┼──────────────┤\n",
      "│                         │ 7:9  │           │ 2 (0.0)      │\n",
      "├─────────────────────────┼──────┼───────────┼──────────────┤\n",
      "│                         │ 9    │           │ 33 (0.4)     │\n",
      "├─────────────────────────┼──────┼───────────┼──────────────┤\n",
      "│                         │ 9:14 │           │ 2 (0.0)      │\n",
      "├─────────────────────────┼──────┼───────────┼──────────────┤\n",
      "│                         │ None │           │ 8511 (97.9)  │\n",
      "├─────────────────────────┼──────┼───────────┼──────────────┤\n",
      "│ DXDDUE, n (%)           │ 1.0  │           │ 1493 (17.2)  │\n",
      "├─────────────────────────┼──────┼───────────┼──────────────┤\n",
      "│                         │ 2.0  │           │ 10 (0.1)     │\n",
      "├─────────────────────────┼──────┼───────────┼──────────────┤\n",
      "│                         │ None │           │ 7192 (82.7)  │\n",
      "├─────────────────────────┼──────┼───────────┼──────────────┤\n",
      "│ DXAD, mean (SD)         │      │ 8695      │ nan (nan)    │\n",
      "├─────────────────────────┼──────┼───────────┼──────────────┤\n",
      "│ DXAPP, n (%)            │ 1.0  │           │ 1460 (16.8)  │\n",
      "├─────────────────────────┼──────┼───────────┼──────────────┤\n",
      "│                         │ 2.0  │           │ 30 (0.3)     │\n",
      "├─────────────────────────┼──────┼───────────┼──────────────┤\n",
      "│                         │ None │           │ 7205 (82.9)  │\n",
      "├─────────────────────────┼──────┼───────────┼──────────────┤\n",
      "│ DXAPOSS, n (%)          │ 1    │           │ 19 (0.2)     │\n",
      "├─────────────────────────┼──────┼───────────┼──────────────┤\n",
      "│                         │ 1:2  │           │ 2 (0.0)      │\n",
      "├─────────────────────────┼──────┼───────────┼──────────────┤\n",
      "│                         │ 2    │           │ 1 (0.0)      │\n",
      "├─────────────────────────┼──────┼───────────┼──────────────┤\n",
      "│                         │ 3    │           │ 3 (0.0)      │\n",
      "├─────────────────────────┼──────┼───────────┼──────────────┤\n",
      "│                         │ 7    │           │ 5 (0.1)      │\n",
      "├─────────────────────────┼──────┼───────────┼──────────────┤\n",
      "│                         │ None │           │ 8665 (99.7)  │\n",
      "├─────────────────────────┼──────┼───────────┼──────────────┤\n",
      "│ DXPARK, n (%)           │ 0.0  │           │ 8695 (100.0) │\n",
      "├─────────────────────────┼──────┼───────────┼──────────────┤\n",
      "│ DXODES, mean (SD)       │      │ 8685      │ 10.0 (5.1)   │\n",
      "├─────────────────────────┼──────┼───────────┼──────────────┤\n",
      "│ DIAGNOSIS, mean (SD)    │      │ 8180      │ 1.4 (0.6)    │\n",
      "├─────────────────────────┼──────┼───────────┼──────────────┤\n",
      "│ BCSTROKE, n (%)         │ 0.0  │           │ 8695 (100.0) │\n",
      "╘═════════════════════════╧══════╧═══════════╧══════════════╛\n"
     ]
    },
    {
     "name": "stderr",
     "output_type": "stream",
     "text": [
      "/scratch/caroline/opt/miniconda3/envs/workspace/lib/python3.12/site-packages/tableone/tables.py:392: RuntimeWarning: 'DXCURREN' has all non-numeric values. Consider including it in the list of categorical variables.\n",
      "  non_continuous_warning(column)\n",
      "/scratch/caroline/opt/miniconda3/envs/workspace/lib/python3.12/site-packages/tableone/tables.py:392: RuntimeWarning: 'DXCONV' has all non-numeric values. Consider including it in the list of categorical variables.\n",
      "  non_continuous_warning(column)\n",
      "/scratch/caroline/opt/miniconda3/envs/workspace/lib/python3.12/site-packages/tableone/tables.py:392: RuntimeWarning: 'DXREV' has all non-numeric values. Consider including it in the list of categorical variables.\n",
      "  non_continuous_warning(column)\n",
      "/scratch/caroline/opt/miniconda3/envs/workspace/lib/python3.12/site-packages/tableone/tables.py:392: RuntimeWarning: 'DXNORM' has all non-numeric values. Consider including it in the list of categorical variables.\n",
      "  non_continuous_warning(column)\n",
      "/scratch/caroline/opt/miniconda3/envs/workspace/lib/python3.12/site-packages/tableone/tables.py:392: RuntimeWarning: 'DXMCI' has all non-numeric values. Consider including it in the list of categorical variables.\n",
      "  non_continuous_warning(column)\n",
      "/scratch/caroline/opt/miniconda3/envs/workspace/lib/python3.12/site-packages/tableone/tables.py:392: RuntimeWarning: 'DXAD' has all non-numeric values. Consider including it in the list of categorical variables.\n",
      "  non_continuous_warning(column)\n",
      "/scratch/caroline/opt/miniconda3/envs/workspace/lib/python3.12/site-packages/numpy/lib/_nanfunctions_impl.py:1215: RuntimeWarning: Mean of empty slice\n",
      "  return np.nanmean(a, axis, out=out, keepdims=keepdims)\n",
      "/scratch/caroline/opt/miniconda3/envs/workspace/lib/python3.12/site-packages/numpy/lib/_nanfunctions_impl.py:2019: RuntimeWarning: Degrees of freedom <= 0 for slice.\n",
      "  var = nanvar(a, axis=axis, dtype=dtype, out=out, ddof=ddof,\n",
      "/scratch/caroline/opt/miniconda3/envs/workspace/lib/python3.12/site-packages/numpy/lib/_nanfunctions_impl.py:1409: RuntimeWarning: All-NaN slice encountered\n",
      "  return _nanquantile_unchecked(\n",
      "/scratch/caroline/opt/miniconda3/envs/workspace/lib/python3.12/site-packages/tableone/tableone.py:596: RuntimeWarning: Mean of empty slice\n",
      "  return f.format(np.nanmean(x.values), self.statistics._std(x, self._ddof))  # type: ignore\n",
      "/scratch/caroline/opt/miniconda3/envs/workspace/lib/python3.12/site-packages/numpy/lib/_nanfunctions_impl.py:1215: RuntimeWarning: Mean of empty slice\n",
      "  return np.nanmean(a, axis, out=out, keepdims=keepdims)\n",
      "/scratch/caroline/opt/miniconda3/envs/workspace/lib/python3.12/site-packages/numpy/lib/_nanfunctions_impl.py:2019: RuntimeWarning: Degrees of freedom <= 0 for slice.\n",
      "  var = nanvar(a, axis=axis, dtype=dtype, out=out, ddof=ddof,\n",
      "/scratch/caroline/opt/miniconda3/envs/workspace/lib/python3.12/site-packages/numpy/lib/_nanfunctions_impl.py:1409: RuntimeWarning: All-NaN slice encountered\n",
      "  return _nanquantile_unchecked(\n",
      "/scratch/caroline/opt/miniconda3/envs/workspace/lib/python3.12/site-packages/tableone/tableone.py:596: RuntimeWarning: Mean of empty slice\n",
      "  return f.format(np.nanmean(x.values), self.statistics._std(x, self._ddof))  # type: ignore\n",
      "/scratch/caroline/opt/miniconda3/envs/workspace/lib/python3.12/site-packages/numpy/lib/_nanfunctions_impl.py:1215: RuntimeWarning: Mean of empty slice\n",
      "  return np.nanmean(a, axis, out=out, keepdims=keepdims)\n",
      "/scratch/caroline/opt/miniconda3/envs/workspace/lib/python3.12/site-packages/numpy/lib/_nanfunctions_impl.py:2019: RuntimeWarning: Degrees of freedom <= 0 for slice.\n",
      "  var = nanvar(a, axis=axis, dtype=dtype, out=out, ddof=ddof,\n",
      "/scratch/caroline/opt/miniconda3/envs/workspace/lib/python3.12/site-packages/numpy/lib/_nanfunctions_impl.py:1409: RuntimeWarning: All-NaN slice encountered\n",
      "  return _nanquantile_unchecked(\n",
      "/scratch/caroline/opt/miniconda3/envs/workspace/lib/python3.12/site-packages/tableone/tableone.py:596: RuntimeWarning: Mean of empty slice\n",
      "  return f.format(np.nanmean(x.values), self.statistics._std(x, self._ddof))  # type: ignore\n",
      "/scratch/caroline/opt/miniconda3/envs/workspace/lib/python3.12/site-packages/numpy/lib/_nanfunctions_impl.py:1215: RuntimeWarning: Mean of empty slice\n",
      "  return np.nanmean(a, axis, out=out, keepdims=keepdims)\n",
      "/scratch/caroline/opt/miniconda3/envs/workspace/lib/python3.12/site-packages/numpy/lib/_nanfunctions_impl.py:2019: RuntimeWarning: Degrees of freedom <= 0 for slice.\n",
      "  var = nanvar(a, axis=axis, dtype=dtype, out=out, ddof=ddof,\n",
      "/scratch/caroline/opt/miniconda3/envs/workspace/lib/python3.12/site-packages/numpy/lib/_nanfunctions_impl.py:1409: RuntimeWarning: All-NaN slice encountered\n",
      "  return _nanquantile_unchecked(\n",
      "/scratch/caroline/opt/miniconda3/envs/workspace/lib/python3.12/site-packages/tableone/tableone.py:596: RuntimeWarning: Mean of empty slice\n",
      "  return f.format(np.nanmean(x.values), self.statistics._std(x, self._ddof))  # type: ignore\n",
      "/scratch/caroline/opt/miniconda3/envs/workspace/lib/python3.12/site-packages/numpy/lib/_nanfunctions_impl.py:1215: RuntimeWarning: Mean of empty slice\n",
      "  return np.nanmean(a, axis, out=out, keepdims=keepdims)\n",
      "/scratch/caroline/opt/miniconda3/envs/workspace/lib/python3.12/site-packages/numpy/lib/_nanfunctions_impl.py:2019: RuntimeWarning: Degrees of freedom <= 0 for slice.\n",
      "  var = nanvar(a, axis=axis, dtype=dtype, out=out, ddof=ddof,\n",
      "/scratch/caroline/opt/miniconda3/envs/workspace/lib/python3.12/site-packages/numpy/lib/_nanfunctions_impl.py:1409: RuntimeWarning: All-NaN slice encountered\n",
      "  return _nanquantile_unchecked(\n",
      "/scratch/caroline/opt/miniconda3/envs/workspace/lib/python3.12/site-packages/tableone/tableone.py:596: RuntimeWarning: Mean of empty slice\n",
      "  return f.format(np.nanmean(x.values), self.statistics._std(x, self._ddof))  # type: ignore\n",
      "/scratch/caroline/opt/miniconda3/envs/workspace/lib/python3.12/site-packages/numpy/lib/_nanfunctions_impl.py:1215: RuntimeWarning: Mean of empty slice\n",
      "  return np.nanmean(a, axis, out=out, keepdims=keepdims)\n",
      "/scratch/caroline/opt/miniconda3/envs/workspace/lib/python3.12/site-packages/numpy/lib/_nanfunctions_impl.py:2019: RuntimeWarning: Degrees of freedom <= 0 for slice.\n",
      "  var = nanvar(a, axis=axis, dtype=dtype, out=out, ddof=ddof,\n",
      "/scratch/caroline/opt/miniconda3/envs/workspace/lib/python3.12/site-packages/numpy/lib/_nanfunctions_impl.py:1409: RuntimeWarning: All-NaN slice encountered\n",
      "  return _nanquantile_unchecked(\n",
      "/scratch/caroline/opt/miniconda3/envs/workspace/lib/python3.12/site-packages/tableone/tableone.py:596: RuntimeWarning: Mean of empty slice\n",
      "  return f.format(np.nanmean(x.values), self.statistics._std(x, self._ddof))  # type: ignore\n"
     ]
    }
   ],
   "source": [
    "mytable = TableOne(adni_diag, columns=['diagnosis_CD_raw', 'diag_current', 'diag_change',\n",
    "       'DXCHANGE', 'DXCURREN', 'DXCONV', 'DXREV', 'DXNORM', 'DXMCI', 'DXMDES', 'DXMPTR1',\n",
    "       'DXMDUE', 'DXMOTHET', 'DXDDUE', 'DXAD', 'DXAPP', 'DXAPOSS', 'DXPARK',\n",
    "       'DXODES', 'DIAGNOSIS', 'BCSTROKE'])\n",
    "print(mytable.tabulate(tablefmt = \"fancy_grid\"))\n"
   ]
  },
  {
   "cell_type": "code",
   "execution_count": 29,
   "id": "b08e0cb0",
   "metadata": {},
   "outputs": [],
   "source": [
    "#%% Create new diagnosis (only 1, 2, 3) and calculate conversion time from baseline\n",
    "# 1=Stable: NL to NL; 2=Stable: MCI to MCI; 3=Stable: Dementia to Dementia; \n",
    "# 4=Conversion: NL to MCI; 5=Conversion: MCI to Dementia; 6=Conversion: NL to Dementia; \n",
    "# 7=Reversion: MCI to NL; 8=Reversion: Dementia to MCI; 9=Reversion: Dementia to NL\t\n",
    "# Define mapping dictionary\n",
    "diagnosis_mapping = {\n",
    "    4: 2,\n",
    "    5: 3,  \n",
    "    6: 3,\n",
    "    7: 1,\n",
    "    8: 2,\n",
    "    9: 1\n",
    "}\n",
    "\n",
    "# Apply mapping to the column\n",
    "#remove None and convert to numeric to map properly\n",
    "adni_diag['diagnosis_CD_raw'] = adni_diag['diagnosis_CD_raw'].replace('None', np.nan)\n",
    "adni_diag['diagnosis_CD'] = adni_diag['diagnosis_CD_raw'].astype(float).replace(diagnosis_mapping)\n",
    "\n",
    "#adni_diag['diagnosis_CD'] = adni_diag['diagnosis_CD'].replace('None', np.nan)\n",
    "#adni_diag['diagnosis_CD'] = adni_diag['diagnosis_CD'].astype(float)\n",
    "adni_diag = adni_diag.dropna(subset=['diagnosis_CD'])\n",
    "\n",
    "#change to datetime\n",
    "adni_diag['EXAMDATE'] = pd.to_datetime(adni_diag['EXAMDATE'])\n",
    "# Sort by Individual and EXAMDATE to ensure proper chronological order\n",
    "adni_diag = adni_diag.sort_values(by=['Individual', 'EXAMDATE'])\n",
    "#Calculate time between tp\n",
    "adni_diag['time_from_bl'] = adni_diag.groupby('Individual')['EXAMDATE'].transform(lambda x: (x - x.min()).dt.days / 365.25)\n",
    "\n",
    "# Compute diagnosis change\n",
    "adni_diag['diagnosis_changed'] = adni_diag.groupby('Individual')['diagnosis_CD'].transform(\n",
    "    lambda x: x != x.shift()\n",
    ")\n",
    "# First record for each Individual: force to False\n",
    "adni_diag.loc[adni_diag.groupby('Individual').head(1).index, 'diagnosis_changed'] = False\n",
    "\n",
    "# Flag Ids that has changed before two years\n",
    "adni_diag['exclude_ID'] = (\n",
    "    (adni_diag['diagnosis_changed']) & \n",
    "    (adni_diag['time_from_bl'] <= 1)\n",
    ")\n"
   ]
  },
  {
   "cell_type": "code",
   "execution_count": 30,
   "id": "ef5da805",
   "metadata": {},
   "outputs": [],
   "source": [
    "adni_diag['cn_to_mci'] = (\n",
    "    (adni_diag['diagnosis_CD'].shift() == 1) &   # Previous was MCI\n",
    "    (adni_diag['diagnosis_CD'] == 2) &           # Current is AD\n",
    "    (adni_diag['diagnosis_changed']) &           # Must be a real change\n",
    "    (adni_diag['time_from_bl'] > 0)              # Not baseline\n",
    ")\n"
   ]
  },
  {
   "cell_type": "code",
   "execution_count": 31,
   "id": "ade84e50",
   "metadata": {},
   "outputs": [],
   "source": [
    "adni_diag['mci_to_ad'] = (\n",
    "    (adni_diag['diagnosis_CD'].shift() == 2) &   # Previous was MCI\n",
    "    (adni_diag['diagnosis_CD'] == 3) &           # Current is AD\n",
    "    (adni_diag['diagnosis_changed']) &           # Must be a real change\n",
    "    (adni_diag['time_from_bl'] > 0)              # Not baseline\n",
    ")\n"
   ]
  },
  {
   "cell_type": "code",
   "execution_count": 32,
   "id": "925fcb1b",
   "metadata": {},
   "outputs": [
    {
     "name": "stdout",
     "output_type": "stream",
     "text": [
      "╒══════════════════════════╤═══════╤═══════════╤═════════════╕\n",
      "│                          │       │ Missing   │ Overall     │\n",
      "╞══════════════════════════╪═══════╪═══════════╪═════════════╡\n",
      "│ n                        │       │           │ 8695        │\n",
      "├──────────────────────────┼───────┼───────────┼─────────────┤\n",
      "│ diagnosis_CD, n (%)      │ 1.0   │           │ 3160 (36.3) │\n",
      "├──────────────────────────┼───────┼───────────┼─────────────┤\n",
      "│                          │ 2.0   │           │ 4032 (46.4) │\n",
      "├──────────────────────────┼───────┼───────────┼─────────────┤\n",
      "│                          │ 3.0   │           │ 1503 (17.3) │\n",
      "├──────────────────────────┼───────┼───────────┼─────────────┤\n",
      "│ diagnosis_changed, n (%) │ False │           │ 8419 (96.8) │\n",
      "├──────────────────────────┼───────┼───────────┼─────────────┤\n",
      "│                          │ True  │           │ 276 (3.2)   │\n",
      "├──────────────────────────┼───────┼───────────┼─────────────┤\n",
      "│ exclude_ID, n (%)        │ False │           │ 8632 (99.3) │\n",
      "├──────────────────────────┼───────┼───────────┼─────────────┤\n",
      "│                          │ True  │           │ 63 (0.7)    │\n",
      "├──────────────────────────┼───────┼───────────┼─────────────┤\n",
      "│ cn_to_mci, n (%)         │ False │           │ 8619 (99.1) │\n",
      "├──────────────────────────┼───────┼───────────┼─────────────┤\n",
      "│                          │ True  │           │ 76 (0.9)    │\n",
      "├──────────────────────────┼───────┼───────────┼─────────────┤\n",
      "│ mci_to_ad, n (%)         │ False │           │ 8569 (98.6) │\n",
      "├──────────────────────────┼───────┼───────────┼─────────────┤\n",
      "│                          │ True  │           │ 126 (1.4)   │\n",
      "├──────────────────────────┼───────┼───────────┼─────────────┤\n",
      "│ diagnosis_CD_raw, n (%)  │ 1.0   │           │ 3069 (35.3) │\n",
      "├──────────────────────────┼───────┼───────────┼─────────────┤\n",
      "│                          │ 2.0   │           │ 3888 (44.7) │\n",
      "├──────────────────────────┼───────┼───────────┼─────────────┤\n",
      "│                          │ 3.0   │           │ 1227 (14.1) │\n",
      "├──────────────────────────┼───────┼───────────┼─────────────┤\n",
      "│                          │ 4.0   │           │ 134 (1.5)   │\n",
      "├──────────────────────────┼───────┼───────────┼─────────────┤\n",
      "│                          │ 5.0   │           │ 276 (3.2)   │\n",
      "├──────────────────────────┼───────┼───────────┼─────────────┤\n",
      "│                          │ 7.0   │           │ 91 (1.0)    │\n",
      "├──────────────────────────┼───────┼───────────┼─────────────┤\n",
      "│                          │ 8.0   │           │ 10 (0.1)    │\n",
      "╘══════════════════════════╧═══════╧═══════════╧═════════════╛\n"
     ]
    }
   ],
   "source": [
    "mytable = TableOne(adni_diag, columns=['diagnosis_CD', 'diagnosis_changed', 'exclude_ID', 'cn_to_mci', 'mci_to_ad', 'diagnosis_CD_raw'])\n",
    "print(mytable.tabulate(tablefmt = \"fancy_grid\"))\n"
   ]
  },
  {
   "cell_type": "code",
   "execution_count": 33,
   "id": "7f664f95",
   "metadata": {},
   "outputs": [
    {
     "data": {
      "text/plain": [
       "Index(['Project', 'Individual', 'AltId', 'TimePoint', 'InputIds',\n",
       "       'freesurfer_6_0_0_aparc_thickness_GUID', 'EXAMDATE', 'DXCHANGE',\n",
       "       'DXCURREN', 'DXCONV', 'DXREV', 'DXNORM', 'DXMCI', 'DXMDES', 'DXMPTR1',\n",
       "       'DXMDUE', 'DXMOTHET', 'DXDDUE', 'DXAD', 'DXAPP', 'DXAPOSS', 'DXPARK',\n",
       "       'DXODES', 'DIAGNOSIS', 'BCSTROKE', 'diag_current', 'diag_change',\n",
       "       'diagnosis_CD_raw', 'diagnosis_CD', 'time_from_bl', 'diagnosis_changed',\n",
       "       'exclude_ID', 'cn_to_mci', 'mci_to_ad'],\n",
       "      dtype='object')"
      ]
     },
     "execution_count": 33,
     "metadata": {},
     "output_type": "execute_result"
    }
   ],
   "source": [
    "adni_diag.columns"
   ]
  },
  {
   "cell_type": "code",
   "execution_count": 38,
   "id": "bed07ac5",
   "metadata": {},
   "outputs": [],
   "source": [
    "adni_diag_short = adni_diag.drop(columns=['Project', 'AltId', 'TimePoint', 'InputIds','DXPARK', 'DXCHANGE',\n",
    "       'DXCURREN', 'DXCONV', 'DXREV', 'DXNORM', 'DXMCI', 'DXMDES', 'DXMPTR1',\n",
    "       'DXMDUE', 'DXMOTHET', 'DXDDUE', 'DXAD', 'DXAPP', 'DXAPOSS', 'DXODES',\n",
    "       'DIAGNOSIS', 'BCSTROKE'])"
   ]
  },
  {
   "cell_type": "code",
   "execution_count": 39,
   "id": "065d16a0",
   "metadata": {},
   "outputs": [],
   "source": [
    "a = adni_diag.drop(columns=['Project', 'AltId', 'TimePoint', 'InputIds','DXPARK', 'DXCHANGE',\n",
    "       'DXCURREN', 'DXCONV', 'DXREV', 'DXNORM', 'DXMCI', 'DXMDES', 'DXMPTR1',\n",
    "       'DXMDUE', 'DXMOTHET', 'DXDDUE', 'DXAD', 'DXAPP', 'DXAPOSS', 'DXODES',\n",
    "       'DIAGNOSIS', 'BCSTROKE'])"
   ]
  },
  {
   "cell_type": "code",
   "execution_count": 40,
   "id": "807b3580",
   "metadata": {
    "vscode": {
     "languageId": "ruby"
    }
   },
   "outputs": [],
   "source": [
    "adni6 = pd.merge(adni5, adni_diag_short, on= ['Individual','freesurfer_6_0_0_aparc_thickness_GUID'], how='left')"
   ]
  },
  {
   "cell_type": "markdown",
   "id": "0ec8f50d",
   "metadata": {},
   "source": [
    "# APOE"
   ]
  },
  {
   "cell_type": "code",
   "execution_count": 26,
   "id": "c5272dd2",
   "metadata": {
    "vscode": {
     "languageId": "ruby"
    }
   },
   "outputs": [],
   "source": [
    "adni_apoe = pd.read_csv(os.path.join(dir, 'ADNI_APOE_20250616.csv'))\n",
    "\n",
    "adni_apoe['APGEN1'] = adni_apoe['APGEN1'].astype(float)\n",
    "adni_apoe['APGEN2'] = adni_apoe['APGEN2'].astype(float)\n",
    "\n",
    "adni_apoe['apoe_e4'] = np.where(\n",
    "    (adni_apoe['APGEN1'] == 4) | (adni_apoe['APGEN2'] == 4),\n",
    "    1,  # True case\n",
    "    0   # False case\n",
    ")\n",
    "\n",
    "# Count number of APOE ε4 alleles (each allele == 4)\n",
    "adni_apoe['apoe_e4_count'] = (\n",
    "    (adni_apoe['APGEN1'] == 4).astype(int) + \n",
    "    (adni_apoe['APGEN2'] == 4).astype(int)\n",
    ")\n",
    "\n",
    "adni_apoe_short = adni_apoe[['freesurfer_6_0_0_aparc_thickness_GUID', 'apoe_e4', 'apoe_e4_count']]\n",
    "adni7 = pd.merge(adni6, adni_apoe_short, on= 'freesurfer_6_0_0_aparc_thickness_GUID', how='left')"
   ]
  },
  {
   "cell_type": "markdown",
   "id": "a04ac24c",
   "metadata": {},
   "source": [
    "# TABLE 1 "
   ]
  },
  {
   "cell_type": "code",
   "execution_count": 27,
   "id": "4c2fdadb",
   "metadata": {
    "vscode": {
     "languageId": "ruby"
    }
   },
   "outputs": [],
   "source": [
    "table_df = adni7.copy()\n",
    "\n",
    "# Cleaning of data\n",
    "\n",
    "table_df['CDGLOBAL'] = table_df['CDGLOBAL'].replace(-1, np.nan)\n",
    "#table_df['PLASMAPTAU181'] = table_df['PLASMAPTAU181'].replace('None', np.nan)\n",
    "# Alpha synuclein\n",
    "# https://alz-journals.onlinelibrary.wiley.com/doi/full/10.1002/alz.14571\n",
    "# \"CSF samples were classified into one of four categories: “PD/DLB-like Detected” (Type 1) if α-syn aggregates were consistent with seeds observed in Parkinson's disease and dementia with Lewy bodies (DLB); \n",
    "# “MSA-like Detected” (Type 2) if α-syn aggregates matched seeds that are typically seen in multiple system atrophy; “Not Detected” if no α-syn aggregates were observed; or “Indeterminate” if samples did not \n",
    "# yield a definite result after two tests. For all subsequent analyses in this study, only Type 1 cases (n = 196; 34 CU and 162 CI) were considered SAA+, and only “Not Detected” cases (n = 633; 147 CU and 486 CI) \n",
    "# were considered SAA–. Both Type 2 (n = 2; 1 CU and 1 CI) and Indeterminate cases (n = 7; 1 CU and 6 CI) were excluded. All CSF α-syn SAA analyses were performed with analysts blinded to participants’ \n",
    "# demographic details, clinical profiles, and AD biomarker data.\"\n",
    "\n",
    "table_df['alpha_syn_'] = table_df['alpha_syn'].replace('Detected-1', '1')\n",
    "table_df['alpha_syn_'] = table_df['alpha_syn'].replace('Detected-2', '1')\n",
    "table_df['alpha_syn_'] = table_df['alpha_syn'].replace('Not_Detected', '0')\n",
    "table_df['alpha_syn_'] = table_df['alpha_syn'].replace('Indeterminate', '2')\n",
    "table_df['alpha_syn_'] = table_df['alpha_syn'].replace('None', '0')\n"
   ]
  },
  {
   "cell_type": "code",
   "execution_count": 28,
   "id": "0fe4d5e6",
   "metadata": {
    "vscode": {
     "languageId": "ruby"
    }
   },
   "outputs": [],
   "source": [
    "# Organize groups\n",
    "#make sure data is numeric\n",
    "table_df['diagnosis_CD'] = table_df['diagnosis_CD'].astype('float')  \n",
    "table_df['amy_status'] = table_df['amy_status'].astype('float')\n",
    "\n",
    "# Create the conditions and code for groups\n",
    "conditions = [\n",
    "    (table_df['diagnosis_CD'] == 1) & (table_df['amy_status'] == 0),  # CN, amy- 0\n",
    "    (table_df['diagnosis_CD'] == 1) & (table_df['amy_status'] == 1),  # CN, amy+ 1\n",
    "    (table_df['diagnosis_CD'] == 2) & (table_df['amy_status'] == 0),  # MCI, amy- 2\n",
    "    (table_df['diagnosis_CD'] == 2) & (table_df['amy_status'] == 1),  # MCI, amy+ 3\n",
    "    (table_df['diagnosis_CD'] == 3) & (table_df['amy_status'] == 0),  # AD, amy- 4\n",
    "    (table_df['diagnosis_CD'] == 3) & (table_df['amy_status'] == 1),  # AD, amy+ 5\n",
    "]\n",
    "\n",
    "group_codes = [0, 1, 4, 2, 5, 3]\n",
    "\n",
    "table_df['group_code'] = np.select(conditions, group_codes, default=np.nan)\n",
    "\n",
    "group_labels = {\n",
    "    0: 'CN amy-',\n",
    "    1: 'CN amy+',\n",
    "    4: 'MCI amy-',\n",
    "    2: 'MCI amy+',\n",
    "    5: 'AD amy-',\n",
    "    3: 'AD amy+'\n",
    "}\n",
    "\n",
    "table_df['group_label'] = table_df['group_code'].map(group_labels)\n",
    "\n",
    "table_df = table_df[~table_df['group_code'].isin([4, 5])]"
   ]
  },
  {
   "cell_type": "code",
   "execution_count": 29,
   "id": "d62e5e0e",
   "metadata": {
    "vscode": {
     "languageId": "ruby"
    }
   },
   "outputs": [
    {
     "name": "stdout",
     "output_type": "stream",
     "text": [
      "|                            |               | Missing   | Overall    | 0.0         | 1.0         | 2.0         | 3.0         | P-Value   |\n",
      "|----------------------------|---------------|-----------|------------|-------------|-------------|-------------|-------------|-----------|\n",
      "| n                          |               |           | 1184       | 194         | 100         | 176         | 151         |           |\n",
      "| Age at MRI scan, mean (SD) |               | 0         | 75.1 (7.0) | 74.0 (6.6)  | 75.9 (6.2)  | 74.2 (6.8)  | 74.9 (7.7)  | 0.107     |\n",
      "| Age at FDG scan, mean (SD) |               | 0         | 75.1 (7.0) | 74.0 (6.6)  | 76.0 (6.2)  | 74.2 (6.8)  | 74.9 (7.7)  | 0.105     |\n",
      "| MMSE, mean (SD)            |               | 60        | 26.7 (3.7) | 29.0 (1.3)  | 29.1 (1.1)  | 27.6 (1.9)  | 22.3 (3.8)  | <0.001    |\n",
      "| CDR-SOB, n (%)             | 0.0           |           | 402 (34.0) | 188 (96.9)  | 95 (95.0)   | 5 (2.8)     | 0 (0.0)     | <0.001    |\n",
      "|                            | 0.5           |           | 535 (45.2) | 4 (2.1)     | 4 (4.0)     | 168 (95.5)  | 52 (34.4)   |           |\n",
      "|                            | 1.0           |           | 164 (13.9) | 0 (0.0)     | 0 (0.0)     | 2 (1.1)     | 92 (60.9)   |           |\n",
      "|                            | 2.0           |           | 18 (1.5)   | 0 (0.0)     | 0 (0.0)     | 0 (0.0)     | 6 (4.0)     |           |\n",
      "|                            | 3.0           |           | 1 (0.1)    | 0 (0.0)     | 0 (0.0)     | 0 (0.0)     | 1 (0.7)     |           |\n",
      "|                            | None          |           | 64 (5.4)   | 2 (1.0)     | 1 (1.0)     | 1 (0.6)     | 0 (0.0)     |           |\n",
      "| MoCA, mean (SD)            |               | 477       | 22.2 (5.4) | 25.7 (2.6)  | 25.1 (2.9)  | 22.3 (3.7)  | 15.5 (5.4)  | <0.001    |\n",
      "| Aplha-synuclein, n (%)     | Detected-1    |           | 218 (18.4) | 25 (12.9)   | 18 (18.0)   | 42 (23.9)   | 50 (33.1)   | <0.001    |\n",
      "|                            | Detected-2    |           | 3 (0.3)    | 1 (0.5)     | 0 (0.0)     | 0 (0.0)     | 0 (0.0)     |           |\n",
      "|                            | Indeterminate |           | 6 (0.5)    | 0 (0.0)     | 2 (2.0)     | 0 (0.0)     | 1 (0.7)     |           |\n",
      "|                            | None          |           | 287 (24.2) | 26 (13.4)   | 13 (13.0)   | 12 (6.8)    | 20 (13.2)   |           |\n",
      "|                            | Not_Detected  |           | 670 (56.6) | 142 (73.2)  | 67 (67.0)   | 122 (69.3)  | 80 (53.0)   |           |\n",
      "| cn_to_mci, n (%)           | False         |           | 648 (54.7) | 194 (100.0) | 100 (100.0) | 173 (98.3)  | 151 (100.0) | 0.055     |\n",
      "|                            | None          |           | 531 (44.8) | 0 (0.0)     | 0 (0.0)     | 0 (0.0)     | 0 (0.0)     |           |\n",
      "|                            | True          |           | 5 (0.4)    | 0 (0.0)     | 0 (0.0)     | 3 (1.7)     | 0 (0.0)     |           |\n",
      "| mci_to_ad, n (%)           | False         |           | 637 (53.8) | 194 (100.0) | 100 (100.0) | 176 (100.0) | 135 (89.4)  | <0.001    |\n",
      "|                            | None          |           | 531 (44.8) | 0 (0.0)     | 0 (0.0)     | 0 (0.0)     | 0 (0.0)     |           |\n",
      "|                            | True          |           | 16 (1.4)   | 0 (0.0)     | 0 (0.0)     | 0 (0.0)     | 16 (10.6)   |           |\n"
     ]
    }
   ],
   "source": [
    "columns = ['age_MRI', 'age_FDG', 'amy_status','group_label', \n",
    "           'MMSCORE','CDGLOBAL', 'moca_score', \n",
    "           'PLASMAPTAU181', 'alpha_syn', 'time_from_bl', 'diagnosis_changed', \n",
    "           'cn_to_mci', 'mci_to_ad'\n",
    "        ]\n",
    "\n",
    "categorical = ['CDGLOBAL', 'alpha_syn', 'cn_to_mci', 'mci_to_ad']\n",
    "continuous = ['age_MRI', 'age_FDG', 'MMSCORE', 'moca_score' ]\n",
    "nonnormal = []\n",
    "rename={'age_MRI': 'Age at MRI scan', 'age_FDG': 'Age at FDG scan', \n",
    "        'MMSCORE':'MMSE','CDGLOBAL':'CDR-SOB', 'moca_score':'MoCA', \n",
    "        'PLASMAPTAU181':'Plasma_pTau181', 'alpha_syn':'Aplha-synuclein'}\n",
    "groupby='group_code'\n",
    "\n",
    "#https://tableone.readthedocs.io/en/latest/index.html\n",
    "mytable = TableOne(table_df, columns=columns, \n",
    "                    categorical=categorical, continuous=continuous, \n",
    "                    groupby=groupby, \n",
    "                    nonnormal=nonnormal, \n",
    "                    rename=rename, pval=True)\n",
    "\n",
    "print(mytable.tabulate(tablefmt=\"github\"))\n",
    "#“github”, “grid”, “fancy_grid”, “rst”, “html”, and “latex”."
   ]
  },
  {
   "cell_type": "code",
   "execution_count": 30,
   "id": "00455ee6",
   "metadata": {},
   "outputs": [],
   "source": [
    "table_df.to_csv(os.path.join(dir, 'ADNI_PET_FDG_DATA_20250617.csv'))"
   ]
  },
  {
   "cell_type": "code",
   "execution_count": 52,
   "id": "f027a010",
   "metadata": {},
   "outputs": [
    {
     "data": {
      "text/plain": [
       "<Axes: xlabel='group_code', ylabel='MMSCORE'>"
      ]
     },
     "execution_count": 52,
     "metadata": {},
     "output_type": "execute_result"
    },
    {
     "data": {
      "image/png": "[encoded data removed]",
      "text/plain": [
       "<Figure size 640x480 with 1 Axes>"
      ]
     },
     "metadata": {},
     "output_type": "display_data"
    }
   ],
   "source": [
    "#some visual stats\n",
    "import seaborn as sns\n",
    "\n",
    "sns.boxplot(data=table_df, x='group_code', y='MMSCORE', hue='group_code')\n",
    "sns.regplot(data=table_df, x='group_code', y='MMSCORE', scatter=False, color='r')"
   ]
  },
  {
   "cell_type": "code",
   "execution_count": 49,
   "id": "64d7965c",
   "metadata": {},
   "outputs": [
    {
     "data": {
      "text/plain": [
       "<Axes: xlabel='group_code', ylabel='MMSCORE'>"
      ]
     },
     "execution_count": 49,
     "metadata": {},
     "output_type": "execute_result"
    },
    {
     "data": {
      "image/png": "[encoded data removed]",
      "text/plain": [
       "<Figure size 640x480 with 1 Axes>"
      ]
     },
     "metadata": {},
     "output_type": "display_data"
    }
   ],
   "source": [
    "sns.regplot(data=table_df, x='group_code', y='MMSCORE', scatter=False)"
   ]
  }
 ],
 "metadata": {
  "kernelspec": {
   "display_name": "workspace",
   "language": "python",
   "name": "python3"
  },
  "language_info": {
   "codemirror_mode": {
    "name": "ipython",
    "version": 3
   },
   "file_extension": ".py",
   "mimetype": "text/x-python",
   "name": "python",
   "nbconvert_exporter": "python",
   "pygments_lexer": "ipython3",
   "version": "3.12.10"
  }
 },
 "nbformat": 4,
 "nbformat_minor": 5
}
