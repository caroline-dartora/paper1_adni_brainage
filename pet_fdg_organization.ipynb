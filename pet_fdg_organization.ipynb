{
 "cells": [
  {
   "cell_type": "markdown",
   "id": "e1f15868",
   "metadata": {},
   "source": [
    "# Selection of PET FDG images to process"
   ]
  },
  {
   "cell_type": "code",
   "execution_count": 1,
   "id": "9beccaf6",
   "metadata": {},
   "outputs": [],
   "source": [
    "import os\n",
    "import pandas as pd \n",
    "import numpy as np\n",
    "from tableone import TableOne"
   ]
  },
  {
   "cell_type": "code",
   "execution_count": 2,
   "id": "1544a06f",
   "metadata": {},
   "outputs": [],
   "source": [
    "dir = '/scratch/caroline/papers/ongoing/project00/ADNI_analysis/data'\n",
    "adni1 = pd.read_csv(os.path.join(dir, 'adni_fdg_pet_selection.csv'))"
   ]
  },
  {
   "cell_type": "markdown",
   "id": "91518e52",
   "metadata": {},
   "source": [
    "## Organize data"
   ]
  },
  {
   "cell_type": "code",
   "execution_count": 3,
   "id": "6d7f832e",
   "metadata": {},
   "outputs": [],
   "source": [
    "# Remove unnecessary columns\n",
    "adni2 = adni1.drop(columns=['0','2','3','5', 'time', 'time0', 'date0']) \n",
    "# Rename id columns\n",
    "adni2 = adni2.rename(columns={'4':'Other_ID', 'date':'fdg_scandate'})\n",
    "\n",
    "#Organize order\n",
    "adni2 = adni2[['project', 'Individual', 'AltId', 'Other_ID','ID', 'TimePoint', 'GUID', 'freesurfer_6_0_0_aparc_thickness_GUID',  \n",
    "               'scandate',  'fdg_scandate', 'date_diff', 'HMSTROKE', 'DXPARK','MMSCORE', 'CDGLOBAL', 'PTDOBMM', 'PTDOBYY']]"
   ]
  },
  {
   "cell_type": "code",
   "execution_count": 4,
   "id": "8c3821f8",
   "metadata": {},
   "outputs": [],
   "source": [
    "# Step 1: Drop rows with missing month or year of birth\n",
    "adni3 = adni2.dropna(subset=[\"PTDOBMM\", \"PTDOBYY\"]).copy()  \n",
    "\n",
    "#change to integer\n",
    "adni3[['PTDOBMM', 'PTDOBYY']] = adni3[['PTDOBMM', 'PTDOBYY']].astype(np.int64)\n",
    "\n",
    "# put MM and YY of birth together and change to datetime format\n",
    "adni3['DOB'] = adni3['PTDOBYY'].astype(str) + adni3['PTDOBMM'].astype(str)\n",
    "adni3['DOB'] = pd.to_datetime(adni3['DOB'], format='%Y%m')\n"
   ]
  },
  {
   "cell_type": "code",
   "execution_count": 5,
   "id": "804f50df",
   "metadata": {},
   "outputs": [],
   "source": [
    "adni3['fdg_scandate'] = pd.to_datetime(adni3['fdg_scandate'])\n",
    "adni3['scandate'] = pd.to_datetime(adni3['scandate'])\n",
    "\n",
    "# Calculate age at FDG scan\n",
    "adni3['age_FDG'] = adni3['fdg_scandate'] - adni3['DOB']\n",
    "adni3['age_FDG'] = adni3['age_FDG']/pd.Timedelta('365.25 days')\n",
    "adni3['age_FDG'] = adni3['age_FDG'].round(2)\n",
    "# Calculate age at MRI scan\n",
    "adni3['age_MRI'] = adni3['scandate'] - adni3['DOB']\n",
    "adni3['age_MRI'] = adni3['age_MRI']/pd.Timedelta('365.25 days')\n",
    "adni3['age_MRI'] = adni3['age_MRI'].round(2)\n",
    "#1446 Ids\n"
   ]
  },
  {
   "cell_type": "code",
   "execution_count": 6,
   "id": "f77761be",
   "metadata": {},
   "outputs": [],
   "source": [
    "adni3 = adni3[(adni3['HMSTROKE']==0)].copy()"
   ]
  },
  {
   "cell_type": "code",
   "execution_count": 7,
   "id": "c9902bba",
   "metadata": {},
   "outputs": [],
   "source": [
    "fs_keys = adni3[['freesurfer_6_0_0_aparc_thickness_GUID']]"
   ]
  },
  {
   "cell_type": "markdown",
   "id": "599129ab",
   "metadata": {},
   "source": [
    "# Diagnosis"
   ]
  },
  {
   "cell_type": "code",
   "execution_count": 8,
   "id": "59c38ac3",
   "metadata": {
    "vscode": {
     "languageId": "ruby"
    }
   },
   "outputs": [],
   "source": [
    "# Load\n",
    "diag = pd.read_csv(os.path.join(dir, 'ADNI_DIAGNOSIS_20250616.csv'))\n",
    "\n",
    "adni_diag = diag.copy()\n",
    "#change missing to na, and None to na\n",
    "adni_diag = adni_diag.replace('None', np.nan)\n",
    "adni_diag = adni_diag.replace(-4, np.nan)\n",
    "adni_diag = adni_diag.replace('-4', np.nan)"
   ]
  },
  {
   "cell_type": "code",
   "execution_count": 9,
   "id": "8df127d0",
   "metadata": {
    "vscode": {
     "languageId": "ruby"
    }
   },
   "outputs": [
    {
     "data": {
      "text/plain": [
       "Index(['Project', 'Individual', 'AltId', 'TimePoint', 'InputIds',\n",
       "       'freesurfer_6_0_0_aparc_thickness_GUID', 'EXAMDATE', 'DXCHANGE',\n",
       "       'DXCURREN', 'DXCONV', 'DXREV', 'DXNORM', 'DXMCI', 'DXMDES', 'DXMPTR1',\n",
       "       'DXMDUE', 'DXMOTHET', 'DXDDUE', 'DXAD', 'DXAPP', 'DXAPOSS', 'DXPARK',\n",
       "       'DXODES', 'DIAGNOSIS', 'BCSTROKE'],\n",
       "      dtype='object')"
      ]
     },
     "execution_count": 9,
     "metadata": {},
     "output_type": "execute_result"
    }
   ],
   "source": [
    "adni_diag.columns"
   ]
  },
  {
   "cell_type": "code",
   "execution_count": 10,
   "id": "48fc9dca",
   "metadata": {},
   "outputs": [
    {
     "name": "stderr",
     "output_type": "stream",
     "text": [
      "/tmp/ipykernel_194097/869927213.py:13: FutureWarning: Downcasting object dtype arrays on .fillna, .ffill, .bfill is deprecated and will change in a future version. Call result.infer_objects(copy=False) instead. To opt-in to the future behavior, set `pd.set_option('future.no_silent_downcasting', True)`\n",
      "  .transform(lambda x: x.bfill().ffill())\n",
      "/tmp/ipykernel_194097/869927213.py:28: FutureWarning: Downcasting object dtype arrays on .fillna, .ffill, .bfill is deprecated and will change in a future version. Call result.infer_objects(copy=False) instead. To opt-in to the future behavior, set `pd.set_option('future.no_silent_downcasting', True)`\n",
      "  .transform(lambda x: x.ffill())\n"
     ]
    }
   ],
   "source": [
    "# Fill in different timepoint\n",
    "adni_diag = adni_diag.sort_values(by=['Individual', 'TimePoint'])\n",
    "\n",
    "diagnosis_cols = [\n",
    "    'DXCHANGE', 'DXCURREN', 'DXCONV', 'DXREV', 'DXNORM', 'DXMCI',\n",
    "    'DXMDES', 'DXMPTR1', 'DXMDUE', 'DXMOTHET', 'DXDDUE', 'DXAD', 'DXAPP',\n",
    "    'DXAPOSS', 'DXPARK', 'DXODES', 'DIAGNOSIS', 'BCSTROKE'\n",
    "]\n",
    "\n",
    "# Fill missing values for rows that share the same Individual and TimePoint\n",
    "adni_diag[diagnosis_cols] = (\n",
    "    adni_diag.groupby(['Individual', 'TimePoint'])[diagnosis_cols]\n",
    "    .transform(lambda x: x.bfill().ffill())\n",
    ")\n",
    "\n",
    "#fill in the dates were there is no diagnosis assuming the previous diagnosis is still the actual diagnosis\n",
    "adni_diag = adni_diag.sort_values(by=['Individual', 'EXAMDATE'])\n",
    "\n",
    "diagnosis_cols = [\n",
    "    'DXCHANGE', 'DXCURREN', 'DXCONV', 'DXREV', 'DXNORM', 'DXMCI',\n",
    "    'DXMDES', 'DXMPTR1', 'DXMDUE', 'DXMOTHET', 'DXDDUE', 'DXAD', 'DXAPP',\n",
    "    'DXAPOSS', 'DXPARK', 'DXODES', 'DIAGNOSIS', 'BCSTROKE'\n",
    "]\n",
    "\n",
    "# Fill missing values for rows that share the same Individual --> as we work with date, cannot be backwards, only forward\n",
    "adni_diag[diagnosis_cols] = (\n",
    "    adni_diag.groupby(['Individual'])[diagnosis_cols]\n",
    "    .transform(lambda x: x.ffill())\n",
    ")"
   ]
  },
  {
   "cell_type": "code",
   "execution_count": 11,
   "id": "67fcde14",
   "metadata": {
    "vscode": {
     "languageId": "ruby"
    }
   },
   "outputs": [],
   "source": [
    "#Diagnosis status\n",
    "\n",
    "# varibale 'diag_current' is based on DIAGNOSIS and DXCURREN variables that should be the same\n",
    "adni_diag['diag_current'] = np.where(pd.notna(adni_diag['DIAGNOSIS']),\n",
    "                             adni_diag['DIAGNOSIS'],\n",
    "                             adni_diag['DXCURREN'])\n",
    "\n",
    "\n",
    "# variable diag_change is based on diag_current and DXCHANGE\n",
    "adni_diag['diag_change'] = np.where(pd.notna(adni_diag['diag_current']),\n",
    "                             adni_diag['diag_current'],\n",
    "                             adni_diag['DXCHANGE'])\n",
    "\n",
    "adni_diag['diagnosis_CD_raw'] = adni_diag['diag_change']"
   ]
  },
  {
   "cell_type": "markdown",
   "id": "21e5991f",
   "metadata": {},
   "source": [
    "- Dictionary\n",
    "- DXCHANGE:  Which best describes the participant's change in cognitive status from last visit to current visit:\n",
    " 1=Stable: NL to NL; 2=Stable: MCI to MCI; 3=Stable: Dementia to Dementia; 4=Conversion: NL to MCI; 5=Conversion: MCI to Dementia; 6=Conversion: NL to Dementia; 7=Reversion: MCI to NL; 8=Reversion: Dementia to MCI; 9=Reversion: Dementia to NL\n",
    "- DXCURREN:\n",
    " 1=NL;2=MCI;3=AD\n",
    "- DXCONV: Has there been a conversion or reversion to NL/MCI?\n",
    " 1=Yes - Conversion;2=Yes - Reversion; 0=No\n",
    "- DXREV:  If YES - REVERSION, choose type\n",
    " 1=MCI to Normal Control; 2=AD to MCI; 3=AD to Normal Control\n",
    "- DXNORM: Normal\n",
    " 1=Yes\n",
    "- DXMCI: \n",
    " 1=Yes\n",
    "- DXMDES: If Mild Cognitive Impairment, select any that apply:\n",
    " 1=MCI - Memory features (amnestic); 2=MCI - Non-memory features (non-amnestic)\n",
    " 1=MCI (Memory features); 2=MCI (Non-memory features)\n",
    "- DXMPTR1: If MCI - Memory features, complete the following (Petersen Criteria, see procedures manual for details): i. Subjective memory complaint\n",
    " 1=Yes; 0=No\n",
    "- DXMDUE: suspected cause of MCI\n",
    " 1=MCI due to Alzheimer's Disease; 2=MCI due to other etiology\n",
    "- DXMOTHET: If MCI due to other etiology, select box(es) to indicate reason:\n",
    " 1=Fronto-temporal Dementia; 2=Parkinson's Disease; 3=Huntington's Disease; 4=Progressive Supranuclear Palsy; 8=Corticobasal Degeneration; 9=Vascular Dementia; 10=Prion-Associated Dementia; 14=Other (specify)\n",
    "- DXDDUE:  3b. Suspected cause of dementia\n",
    " 1=Dementia due to Alzheimer's Disease; 2=Dementia due to other etiology\n",
    "- DXAD: Alzheimer's disease\n",
    " 1=Yes\n",
    "- DXAPP: If Dementia due to Alzheimer's Disease, indicate likelihood:\n",
    " 1=Probable; 2=Possible\n",
    "- DXAPOSS: If Possible AD, select box(es) to indicate reason:\n",
    " 1=Atypical clinical course or features (specify); 2=Stroke(s); 3=Depression; 4=Delirium; 5=Parkinsonism; 6=Metabolic / Toxic Disorder (specify); 7=Other (specify)\n",
    "- DXPARK:  4b. Parkinsonism symptoms present?\n",
    " 1=Yes; 0=No\n",
    "- DXODES:  If Other Dementia, select box which indicates best diagnosis:\n",
    " 1=Frontal; 3=Huntington's Disease; 5=Alcohol-related Dementia; 6=NPH; 7=Major Depression; 9=Vascular Dementia; 10=Prion-Associated Dementia; 11=HIV; 12=Primary Progressive Aphasia; 13=Posterior Cortical Dysfunction; 14=Other (specify)\n",
    "- DIAGNOSIS: 1. Which best describes the participant's current diagnosis?\n",
    " 1=CN; 2=MCI; 3=Dementia\n",
    "- BCSTROKE: 10. Did subject have a stroke? ( Diagnostic Summary - Baseline Changes)\n",
    " 1=Yes; 0=No"
   ]
  },
  {
   "cell_type": "code",
   "execution_count": 12,
   "id": "c948707b",
   "metadata": {
    "vscode": {
     "languageId": "ruby"
    }
   },
   "outputs": [],
   "source": [
    "# adni_diag.sort_values(by=['Individual', 'EXAMDATE'])\n",
    "# adni_diag[['diagnosis_CD_raw']] = (\n",
    "#     adni_diag.groupby('Individual')[['diagnosis_CD_raw']]\n",
    "#     .transform(lambda group: group.bfill().ffill())\n",
    "#     .reset_index(level=0, drop=True)  # Drop extra index added by groupby\n",
    "# )"
   ]
  },
  {
   "cell_type": "code",
   "execution_count": 13,
   "id": "3f1fd6cf",
   "metadata": {
    "vscode": {
     "languageId": "ruby"
    }
   },
   "outputs": [
    {
     "name": "stdout",
     "output_type": "stream",
     "text": [
      "╒═════════════════════════╤═════════╤═══════════╤══════════════╕\n",
      "│                         │         │ Missing   │ Overall      │\n",
      "╞═════════════════════════╪═════════╪═══════════╪══════════════╡\n",
      "│ n                       │         │           │ 21312        │\n",
      "├─────────────────────────┼─────────┼───────────┼──────────────┤\n",
      "│ diagnosis_CD_raw, n (%) │ 1.0     │           │ 7205 (33.8)  │\n",
      "├─────────────────────────┼─────────┼───────────┼──────────────┤\n",
      "│                         │ 2.0     │           │ 9043 (42.4)  │\n",
      "├─────────────────────────┼─────────┼───────────┼──────────────┤\n",
      "│                         │ 3.0     │           │ 4166 (19.5)  │\n",
      "├─────────────────────────┼─────────┼───────────┼──────────────┤\n",
      "│                         │ 4.0     │           │ 86 (0.4)     │\n",
      "├─────────────────────────┼─────────┼───────────┼──────────────┤\n",
      "│                         │ 5.0     │           │ 288 (1.4)    │\n",
      "├─────────────────────────┼─────────┼───────────┼──────────────┤\n",
      "│                         │ 7.0     │           │ 89 (0.4)     │\n",
      "├─────────────────────────┼─────────┼───────────┼──────────────┤\n",
      "│                         │ 8.0     │           │ 14 (0.1)     │\n",
      "├─────────────────────────┼─────────┼───────────┼──────────────┤\n",
      "│                         │ None    │           │ 421 (2.0)    │\n",
      "├─────────────────────────┼─────────┼───────────┼──────────────┤\n",
      "│ diag_current, n (%)     │ 1.0     │           │ 4813 (22.6)  │\n",
      "├─────────────────────────┼─────────┼───────────┼──────────────┤\n",
      "│                         │ 2.0     │           │ 4881 (22.9)  │\n",
      "├─────────────────────────┼─────────┼───────────┼──────────────┤\n",
      "│                         │ 3.0     │           │ 2936 (13.8)  │\n",
      "├─────────────────────────┼─────────┼───────────┼──────────────┤\n",
      "│                         │ None    │           │ 8682 (40.7)  │\n",
      "├─────────────────────────┼─────────┼───────────┼──────────────┤\n",
      "│ diag_change, n (%)      │ 1.0     │           │ 7205 (33.8)  │\n",
      "├─────────────────────────┼─────────┼───────────┼──────────────┤\n",
      "│                         │ 2.0     │           │ 9043 (42.4)  │\n",
      "├─────────────────────────┼─────────┼───────────┼──────────────┤\n",
      "│                         │ 3.0     │           │ 4166 (19.5)  │\n",
      "├─────────────────────────┼─────────┼───────────┼──────────────┤\n",
      "│                         │ 4.0     │           │ 86 (0.4)     │\n",
      "├─────────────────────────┼─────────┼───────────┼──────────────┤\n",
      "│                         │ 5.0     │           │ 288 (1.4)    │\n",
      "├─────────────────────────┼─────────┼───────────┼──────────────┤\n",
      "│                         │ 7.0     │           │ 89 (0.4)     │\n",
      "├─────────────────────────┼─────────┼───────────┼──────────────┤\n",
      "│                         │ 8.0     │           │ 14 (0.1)     │\n",
      "├─────────────────────────┼─────────┼───────────┼──────────────┤\n",
      "│                         │ None    │           │ 421 (2.0)    │\n",
      "├─────────────────────────┼─────────┼───────────┼──────────────┤\n",
      "│ DXCHANGE, n (%)         │ 1.0     │           │ 3663 (17.2)  │\n",
      "├─────────────────────────┼─────────┼───────────┼──────────────┤\n",
      "│                         │ 2.0     │           │ 5145 (24.1)  │\n",
      "├─────────────────────────┼─────────┼───────────┼──────────────┤\n",
      "│                         │ 3.0     │           │ 1619 (7.6)   │\n",
      "├─────────────────────────┼─────────┼───────────┼──────────────┤\n",
      "│                         │ 4.0     │           │ 177 (0.8)    │\n",
      "├─────────────────────────┼─────────┼───────────┼──────────────┤\n",
      "│                         │ 5.0     │           │ 404 (1.9)    │\n",
      "├─────────────────────────┼─────────┼───────────┼──────────────┤\n",
      "│                         │ 7.0     │           │ 133 (0.6)    │\n",
      "├─────────────────────────┼─────────┼───────────┼──────────────┤\n",
      "│                         │ 8.0     │           │ 16 (0.1)     │\n",
      "├─────────────────────────┼─────────┼───────────┼──────────────┤\n",
      "│                         │ None    │           │ 10155 (47.6) │\n",
      "├─────────────────────────┼─────────┼───────────┼──────────────┤\n",
      "│ DXCURREN, n (%)         │ 1.0     │           │ 3726 (17.5)  │\n",
      "├─────────────────────────┼─────────┼───────────┼──────────────┤\n",
      "│                         │ 2.0     │           │ 4246 (19.9)  │\n",
      "├─────────────────────────┼─────────┼───────────┼──────────────┤\n",
      "│                         │ 3.0     │           │ 2780 (13.0)  │\n",
      "├─────────────────────────┼─────────┼───────────┼──────────────┤\n",
      "│                         │ None    │           │ 10560 (49.5) │\n",
      "├─────────────────────────┼─────────┼───────────┼──────────────┤\n",
      "│ DXCONV, n (%)           │ 0.0     │           │ 10146 (47.6) │\n",
      "├─────────────────────────┼─────────┼───────────┼──────────────┤\n",
      "│                         │ 1.0     │           │ 532 (2.5)    │\n",
      "├─────────────────────────┼─────────┼───────────┼──────────────┤\n",
      "│                         │ 2.0     │           │ 74 (0.3)     │\n",
      "├─────────────────────────┼─────────┼───────────┼──────────────┤\n",
      "│                         │ None    │           │ 10560 (49.5) │\n",
      "├─────────────────────────┼─────────┼───────────┼──────────────┤\n",
      "│ DXREV, mean (SD)        │         │ 21097     │ 1.2 (0.4)    │\n",
      "├─────────────────────────┼─────────┼───────────┼──────────────┤\n",
      "│ DXNORM, n (%)           │ 1.0     │           │ 3841 (18.0)  │\n",
      "├─────────────────────────┼─────────┼───────────┼──────────────┤\n",
      "│                         │ None    │           │ 17471 (82.0) │\n",
      "├─────────────────────────┼─────────┼───────────┼──────────────┤\n",
      "│ DXMCI, n (%)            │ 1.0     │           │ 5593 (26.2)  │\n",
      "├─────────────────────────┼─────────┼───────────┼──────────────┤\n",
      "│                         │ None    │           │ 15719 (73.8) │\n",
      "├─────────────────────────┼─────────┼───────────┼──────────────┤\n",
      "│ DXMDES, n (%)           │ 1       │           │ 10529 (49.4) │\n",
      "├─────────────────────────┼─────────┼───────────┼──────────────┤\n",
      "│                         │ 1:02    │           │ 572 (2.7)    │\n",
      "├─────────────────────────┼─────────┼───────────┼──────────────┤\n",
      "│                         │ 1:2     │           │ 380 (1.8)    │\n",
      "├─────────────────────────┼─────────┼───────────┼──────────────┤\n",
      "│                         │ 1|2     │           │ 49 (0.2)     │\n",
      "├─────────────────────────┼─────────┼───────────┼──────────────┤\n",
      "│                         │ 2       │           │ 105 (0.5)    │\n",
      "├─────────────────────────┼─────────┼───────────┼──────────────┤\n",
      "│                         │ None    │           │ 9677 (45.4)  │\n",
      "├─────────────────────────┼─────────┼───────────┼──────────────┤\n",
      "│ DXMPTR1, n (%)          │ 0.0     │           │ 282 (1.3)    │\n",
      "├─────────────────────────┼─────────┼───────────┼──────────────┤\n",
      "│                         │ 1.0     │           │ 11329 (53.2) │\n",
      "├─────────────────────────┼─────────┼───────────┼──────────────┤\n",
      "│                         │ None    │           │ 9701 (45.5)  │\n",
      "├─────────────────────────┼─────────┼───────────┼──────────────┤\n",
      "│ DXMDUE, n (%)           │ 1.0     │           │ 11090 (52.0) │\n",
      "├─────────────────────────┼─────────┼───────────┼──────────────┤\n",
      "│                         │ 2.0     │           │ 545 (2.6)    │\n",
      "├─────────────────────────┼─────────┼───────────┼──────────────┤\n",
      "│                         │ None    │           │ 9677 (45.4)  │\n",
      "├─────────────────────────┼─────────┼───────────┼──────────────┤\n",
      "│ DXMOTHET, n (%)         │ 1       │           │ 35 (0.2)     │\n",
      "├─────────────────────────┼─────────┼───────────┼──────────────┤\n",
      "│                         │ 12      │           │ 3 (0.0)      │\n",
      "├─────────────────────────┼─────────┼───────────┼──────────────┤\n",
      "│                         │ 14      │           │ 323 (1.5)    │\n",
      "├─────────────────────────┼─────────┼───────────┼──────────────┤\n",
      "│                         │ 2       │           │ 2 (0.0)      │\n",
      "├─────────────────────────┼─────────┼───────────┼──────────────┤\n",
      "│                         │ 2:14    │           │ 2 (0.0)      │\n",
      "├─────────────────────────┼─────────┼───────────┼──────────────┤\n",
      "│                         │ 2|14    │           │ 4 (0.0)      │\n",
      "├─────────────────────────┼─────────┼───────────┼──────────────┤\n",
      "│                         │ 5|7|14  │           │ 1 (0.0)      │\n",
      "├─────────────────────────┼─────────┼───────────┼──────────────┤\n",
      "│                         │ 6       │           │ 53 (0.2)     │\n",
      "├─────────────────────────┼─────────┼───────────┼──────────────┤\n",
      "│                         │ 6:08    │           │ 2 (0.0)      │\n",
      "├─────────────────────────┼─────────┼───────────┼──────────────┤\n",
      "│                         │ 7       │           │ 41 (0.2)     │\n",
      "├─────────────────────────┼─────────┼───────────┼──────────────┤\n",
      "│                         │ 7:9     │           │ 2 (0.0)      │\n",
      "├─────────────────────────┼─────────┼───────────┼──────────────┤\n",
      "│                         │ 8       │           │ 310 (1.5)    │\n",
      "├─────────────────────────┼─────────┼───────────┼──────────────┤\n",
      "│                         │ 9       │           │ 91 (0.4)     │\n",
      "├─────────────────────────┼─────────┼───────────┼──────────────┤\n",
      "│                         │ 9:14    │           │ 4 (0.0)      │\n",
      "├─────────────────────────┼─────────┼───────────┼──────────────┤\n",
      "│                         │ None    │           │ 20439 (95.9) │\n",
      "├─────────────────────────┼─────────┼───────────┼──────────────┤\n",
      "│ DXDDUE, n (%)           │ 1.0     │           │ 2138 (10.0)  │\n",
      "├─────────────────────────┼─────────┼───────────┼──────────────┤\n",
      "│                         │ 2.0     │           │ 29 (0.1)     │\n",
      "├─────────────────────────┼─────────┼───────────┼──────────────┤\n",
      "│                         │ None    │           │ 19145 (89.8) │\n",
      "├─────────────────────────┼─────────┼───────────┼──────────────┤\n",
      "│ DXAD, n (%)             │ 1.0     │           │ 2802 (13.1)  │\n",
      "├─────────────────────────┼─────────┼───────────┼──────────────┤\n",
      "│                         │ None    │           │ 18510 (86.9) │\n",
      "├─────────────────────────┼─────────┼───────────┼──────────────┤\n",
      "│ DXAPP, n (%)            │ 1.0     │           │ 4548 (21.3)  │\n",
      "├─────────────────────────┼─────────┼───────────┼──────────────┤\n",
      "│                         │ 2.0     │           │ 136 (0.6)    │\n",
      "├─────────────────────────┼─────────┼───────────┼──────────────┤\n",
      "│                         │ None    │           │ 16628 (78.0) │\n",
      "├─────────────────────────┼─────────┼───────────┼──────────────┤\n",
      "│ DXAPOSS, n (%)          │ 1       │           │ 72 (0.3)     │\n",
      "├─────────────────────────┼─────────┼───────────┼──────────────┤\n",
      "│                         │ 1:03    │           │ 2 (0.0)      │\n",
      "├─────────────────────────┼─────────┼───────────┼──────────────┤\n",
      "│                         │ 1:03:05 │           │ 8 (0.0)      │\n",
      "├─────────────────────────┼─────────┼───────────┼──────────────┤\n",
      "│                         │ 1:2     │           │ 8 (0.0)      │\n",
      "├─────────────────────────┼─────────┼───────────┼──────────────┤\n",
      "│                         │ 1:5     │           │ 3 (0.0)      │\n",
      "├─────────────────────────┼─────────┼───────────┼──────────────┤\n",
      "│                         │ 1|7     │           │ 1 (0.0)      │\n",
      "├─────────────────────────┼─────────┼───────────┼──────────────┤\n",
      "│                         │ 2       │           │ 10 (0.0)     │\n",
      "├─────────────────────────┼─────────┼───────────┼──────────────┤\n",
      "│                         │ 3       │           │ 33 (0.2)     │\n",
      "├─────────────────────────┼─────────┼───────────┼──────────────┤\n",
      "│                         │ 3:06    │           │ 7 (0.0)      │\n",
      "├─────────────────────────┼─────────┼───────────┼──────────────┤\n",
      "│                         │ 5       │           │ 4 (0.0)      │\n",
      "├─────────────────────────┼─────────┼───────────┼──────────────┤\n",
      "│                         │ 6       │           │ 4 (0.0)      │\n",
      "├─────────────────────────┼─────────┼───────────┼──────────────┤\n",
      "│                         │ 7       │           │ 27 (0.1)     │\n",
      "├─────────────────────────┼─────────┼───────────┼──────────────┤\n",
      "│                         │ None    │           │ 21133 (99.2) │\n",
      "├─────────────────────────┼─────────┼───────────┼──────────────┤\n",
      "│ DXPARK, n (%)           │ 0.0     │           │ 11867 (55.7) │\n",
      "├─────────────────────────┼─────────┼───────────┼──────────────┤\n",
      "│                         │ 1.0     │           │ 163 (0.8)    │\n",
      "├─────────────────────────┼─────────┼───────────┼──────────────┤\n",
      "│                         │ None    │           │ 9282 (43.6)  │\n",
      "├─────────────────────────┼─────────┼───────────┼──────────────┤\n",
      "│ DXODES, mean (SD)       │         │ 21266     │ 9.7 (4.8)    │\n",
      "├─────────────────────────┼─────────┼───────────┼──────────────┤\n",
      "│ DIAGNOSIS, n (%)        │ 1.0     │           │ 1173 (5.5)   │\n",
      "├─────────────────────────┼─────────┼───────────┼──────────────┤\n",
      "│                         │ 2.0     │           │ 674 (3.2)    │\n",
      "├─────────────────────────┼─────────┼───────────┼──────────────┤\n",
      "│                         │ 3.0     │           │ 159 (0.7)    │\n",
      "├─────────────────────────┼─────────┼───────────┼──────────────┤\n",
      "│                         │ None    │           │ 19306 (90.6) │\n",
      "├─────────────────────────┼─────────┼───────────┼──────────────┤\n",
      "│ BCSTROKE, n (%)         │ 0.0     │           │ 18067 (84.8) │\n",
      "├─────────────────────────┼─────────┼───────────┼──────────────┤\n",
      "│                         │ 1.0     │           │ 79 (0.4)     │\n",
      "├─────────────────────────┼─────────┼───────────┼──────────────┤\n",
      "│                         │ None    │           │ 3166 (14.9)  │\n",
      "╘═════════════════════════╧═════════╧═══════════╧══════════════╛\n"
     ]
    }
   ],
   "source": [
    "mytable = TableOne(adni_diag, columns=['diagnosis_CD_raw', 'diag_current', 'diag_change',\n",
    "       'DXCHANGE', 'DXCURREN', 'DXCONV', 'DXREV', 'DXNORM', 'DXMCI', 'DXMDES', 'DXMPTR1',\n",
    "       'DXMDUE', 'DXMOTHET', 'DXDDUE', 'DXAD', 'DXAPP', 'DXAPOSS', 'DXPARK',\n",
    "       'DXODES', 'DIAGNOSIS', 'BCSTROKE'])\n",
    "print(mytable.tabulate(tablefmt = \"fancy_grid\"))\n"
   ]
  },
  {
   "cell_type": "code",
   "execution_count": 14,
   "id": "61b10be3",
   "metadata": {
    "vscode": {
     "languageId": "ruby"
    }
   },
   "outputs": [
    {
     "data": {
      "application/vnd.microsoft.datawrangler.viewer.v0+json": {
       "columns": [
        {
         "name": "diagnosis_CD_raw",
         "rawType": "object",
         "type": "string"
        },
        {
         "name": "1.0",
         "rawType": "int64",
         "type": "integer"
        },
        {
         "name": "2.0",
         "rawType": "int64",
         "type": "integer"
        },
        {
         "name": "3.0",
         "rawType": "int64",
         "type": "integer"
        },
        {
         "name": "4.0",
         "rawType": "int64",
         "type": "integer"
        },
        {
         "name": "5.0",
         "rawType": "int64",
         "type": "integer"
        },
        {
         "name": "7.0",
         "rawType": "int64",
         "type": "integer"
        },
        {
         "name": "8.0",
         "rawType": "int64",
         "type": "integer"
        },
        {
         "name": "None",
         "rawType": "int64",
         "type": "integer"
        }
       ],
       "ref": "799996a6-4783-4ddc-bc97-8aafc0a29c4e",
       "rows": [
        [
         "1.0",
         "7205",
         "0",
         "0",
         "0",
         "0",
         "0",
         "0",
         "0"
        ],
        [
         "2.0",
         "0",
         "9043",
         "0",
         "0",
         "0",
         "0",
         "0",
         "0"
        ],
        [
         "3.0",
         "0",
         "0",
         "4166",
         "0",
         "0",
         "0",
         "0",
         "0"
        ],
        [
         "4.0",
         "0",
         "0",
         "0",
         "86",
         "0",
         "0",
         "0",
         "0"
        ],
        [
         "5.0",
         "0",
         "0",
         "0",
         "0",
         "288",
         "0",
         "0",
         "0"
        ],
        [
         "7.0",
         "0",
         "0",
         "0",
         "0",
         "0",
         "89",
         "0",
         "0"
        ],
        [
         "8.0",
         "0",
         "0",
         "0",
         "0",
         "0",
         "0",
         "14",
         "0"
        ],
        [
         "None",
         "0",
         "0",
         "0",
         "0",
         "0",
         "0",
         "0",
         "421"
        ]
       ],
       "shape": {
        "columns": 8,
        "rows": 8
       }
      },
      "text/html": [
       "<div>\n",
       "<style scoped>\n",
       "    .dataframe tbody tr th:only-of-type {\n",
       "        vertical-align: middle;\n",
       "    }\n",
       "\n",
       "    .dataframe tbody tr th {\n",
       "        vertical-align: top;\n",
       "    }\n",
       "\n",
       "    .dataframe thead th {\n",
       "        text-align: right;\n",
       "    }\n",
       "</style>\n",
       "<table border=\"1\" class=\"dataframe\">\n",
       "  <thead>\n",
       "    <tr style=\"text-align: right;\">\n",
       "      <th>diag_change</th>\n",
       "      <th>1.0</th>\n",
       "      <th>2.0</th>\n",
       "      <th>3.0</th>\n",
       "      <th>4.0</th>\n",
       "      <th>5.0</th>\n",
       "      <th>7.0</th>\n",
       "      <th>8.0</th>\n",
       "      <th>None</th>\n",
       "    </tr>\n",
       "    <tr>\n",
       "      <th>diagnosis_CD_raw</th>\n",
       "      <th></th>\n",
       "      <th></th>\n",
       "      <th></th>\n",
       "      <th></th>\n",
       "      <th></th>\n",
       "      <th></th>\n",
       "      <th></th>\n",
       "      <th></th>\n",
       "    </tr>\n",
       "  </thead>\n",
       "  <tbody>\n",
       "    <tr>\n",
       "      <th>1.0</th>\n",
       "      <td>7205</td>\n",
       "      <td>0</td>\n",
       "      <td>0</td>\n",
       "      <td>0</td>\n",
       "      <td>0</td>\n",
       "      <td>0</td>\n",
       "      <td>0</td>\n",
       "      <td>0</td>\n",
       "    </tr>\n",
       "    <tr>\n",
       "      <th>2.0</th>\n",
       "      <td>0</td>\n",
       "      <td>9043</td>\n",
       "      <td>0</td>\n",
       "      <td>0</td>\n",
       "      <td>0</td>\n",
       "      <td>0</td>\n",
       "      <td>0</td>\n",
       "      <td>0</td>\n",
       "    </tr>\n",
       "    <tr>\n",
       "      <th>3.0</th>\n",
       "      <td>0</td>\n",
       "      <td>0</td>\n",
       "      <td>4166</td>\n",
       "      <td>0</td>\n",
       "      <td>0</td>\n",
       "      <td>0</td>\n",
       "      <td>0</td>\n",
       "      <td>0</td>\n",
       "    </tr>\n",
       "    <tr>\n",
       "      <th>4.0</th>\n",
       "      <td>0</td>\n",
       "      <td>0</td>\n",
       "      <td>0</td>\n",
       "      <td>86</td>\n",
       "      <td>0</td>\n",
       "      <td>0</td>\n",
       "      <td>0</td>\n",
       "      <td>0</td>\n",
       "    </tr>\n",
       "    <tr>\n",
       "      <th>5.0</th>\n",
       "      <td>0</td>\n",
       "      <td>0</td>\n",
       "      <td>0</td>\n",
       "      <td>0</td>\n",
       "      <td>288</td>\n",
       "      <td>0</td>\n",
       "      <td>0</td>\n",
       "      <td>0</td>\n",
       "    </tr>\n",
       "    <tr>\n",
       "      <th>7.0</th>\n",
       "      <td>0</td>\n",
       "      <td>0</td>\n",
       "      <td>0</td>\n",
       "      <td>0</td>\n",
       "      <td>0</td>\n",
       "      <td>89</td>\n",
       "      <td>0</td>\n",
       "      <td>0</td>\n",
       "    </tr>\n",
       "    <tr>\n",
       "      <th>8.0</th>\n",
       "      <td>0</td>\n",
       "      <td>0</td>\n",
       "      <td>0</td>\n",
       "      <td>0</td>\n",
       "      <td>0</td>\n",
       "      <td>0</td>\n",
       "      <td>14</td>\n",
       "      <td>0</td>\n",
       "    </tr>\n",
       "    <tr>\n",
       "      <th>None</th>\n",
       "      <td>0</td>\n",
       "      <td>0</td>\n",
       "      <td>0</td>\n",
       "      <td>0</td>\n",
       "      <td>0</td>\n",
       "      <td>0</td>\n",
       "      <td>0</td>\n",
       "      <td>421</td>\n",
       "    </tr>\n",
       "  </tbody>\n",
       "</table>\n",
       "</div>"
      ],
      "text/plain": [
       "diag_change        1.0   2.0   3.0  4.0  5.0  7.0  8.0  None\n",
       "diagnosis_CD_raw                                            \n",
       "1.0               7205     0     0    0    0    0    0     0\n",
       "2.0                  0  9043     0    0    0    0    0     0\n",
       "3.0                  0     0  4166    0    0    0    0     0\n",
       "4.0                  0     0     0   86    0    0    0     0\n",
       "5.0                  0     0     0    0  288    0    0     0\n",
       "7.0                  0     0     0    0    0   89    0     0\n",
       "8.0                  0     0     0    0    0    0   14     0\n",
       "None                 0     0     0    0    0    0    0   421"
      ]
     },
     "execution_count": 14,
     "metadata": {},
     "output_type": "execute_result"
    }
   ],
   "source": [
    "pd.crosstab(adni_diag['diagnosis_CD_raw'],adni_diag['diag_change'])"
   ]
  },
  {
   "cell_type": "code",
   "execution_count": 15,
   "id": "b08e0cb0",
   "metadata": {},
   "outputs": [],
   "source": [
    "#%% Create new diagnosis (only 1, 2, 3) and calculate conversion time from baseline\n",
    "# 1=Stable: NL to NL; 2=Stable: MCI to MCI; 3=Stable: Dementia to Dementia; \n",
    "# 4=Conversion: NL to MCI; 5=Conversion: MCI to Dementia; 6=Conversion: NL to Dementia; \n",
    "# 7=Reversion: MCI to NL; 8=Reversion: Dementia to MCI; 9=Reversion: Dementia to NL\t\n",
    "# Define mapping dictionary\n",
    "diagnosis_mapping = {\n",
    "    4: 2,\n",
    "    5: 3,  \n",
    "    6: 3,\n",
    "    7: 1,\n",
    "    8: 2,\n",
    "    9: 1\n",
    "}\n",
    "\n",
    "adni_diag1 = adni_diag.copy()\n",
    "# Apply mapping to the column\n",
    "#remove None and convert to numeric to map properly\n",
    "adni_diag1['diagnosis_CD_raw'] = adni_diag1['diagnosis_CD_raw'].replace('None', 77)# np.nan)\n",
    "adni_diag1['diagnosis_CD'] = adni_diag1['diagnosis_CD_raw'].astype(float).replace(diagnosis_mapping)\n",
    "\n",
    "#adni_diag1['diagnosis_CD'] = adni_diag1['diagnosis_CD'].replace('None', np.nan)\n",
    "#adni_diag1['diagnosis_CD'] = adni_diag1['diagnosis_CD'].astype(float)\n",
    "adni_diag1 = adni_diag1.dropna(subset=['diagnosis_CD'])\n",
    "\n",
    "#change to datetime\n",
    "adni_diag1['EXAMDATE'] = pd.to_datetime(adni_diag1['EXAMDATE'])\n",
    "# Sort by Individual and EXAMDATE to ensure proper chronological order\n",
    "adni_diag1 = adni_diag1.sort_values(by=['Individual', 'EXAMDATE'])\n",
    "#Calculate time between tp\n",
    "adni_diag1['time_from_bl'] = adni_diag1.groupby('Individual')['EXAMDATE'].transform(lambda x: (x - x.min()).dt.days / 365.25)\n",
    "\n",
    "# Compute diagnosis change\n",
    "adni_diag1['diagnosis_changed'] = adni_diag1.groupby('Individual')['diagnosis_CD'].transform(\n",
    "    lambda x: x != x.shift()\n",
    ")\n",
    "# First record for each Individual: force to False\n",
    "adni_diag1.loc[adni_diag1.groupby('Individual').head(1).index, 'diagnosis_changed'] = False\n",
    "\n",
    "# Flag Ids that has changed before two years\n",
    "adni_diag1['exclude_ID'] = (\n",
    "    (adni_diag1['diagnosis_changed']) & \n",
    "    (adni_diag1['time_from_bl'] <= 1)\n",
    ")\n"
   ]
  },
  {
   "cell_type": "code",
   "execution_count": 16,
   "id": "0ffcd7b3",
   "metadata": {},
   "outputs": [
    {
     "data": {
      "application/vnd.microsoft.datawrangler.viewer.v0+json": {
       "columns": [
        {
         "name": "diagnosis_CD",
         "rawType": "float64",
         "type": "float"
        },
        {
         "name": "count",
         "rawType": "int64",
         "type": "integer"
        }
       ],
       "ref": "06125689-044f-4f95-ae91-bd8705f39ace",
       "rows": [
        [
         "2.0",
         "9143"
        ],
        [
         "1.0",
         "7294"
        ],
        [
         "3.0",
         "4454"
        ],
        [
         "77.0",
         "421"
        ]
       ],
       "shape": {
        "columns": 1,
        "rows": 4
       }
      },
      "text/plain": [
       "diagnosis_CD\n",
       "2.0     9143\n",
       "1.0     7294\n",
       "3.0     4454\n",
       "77.0     421\n",
       "Name: count, dtype: int64"
      ]
     },
     "execution_count": 16,
     "metadata": {},
     "output_type": "execute_result"
    }
   ],
   "source": [
    "adni_diag1['diagnosis_CD'].value_counts()"
   ]
  },
  {
   "cell_type": "code",
   "execution_count": 17,
   "id": "4c70e488",
   "metadata": {},
   "outputs": [
    {
     "data": {
      "application/vnd.microsoft.datawrangler.viewer.v0+json": {
       "columns": [
        {
         "name": "diagnosis_CD_raw",
         "rawType": "object",
         "type": "unknown"
        },
        {
         "name": "1.0",
         "rawType": "int64",
         "type": "integer"
        },
        {
         "name": "2.0",
         "rawType": "int64",
         "type": "integer"
        },
        {
         "name": "3.0",
         "rawType": "int64",
         "type": "integer"
        },
        {
         "name": "77.0",
         "rawType": "int64",
         "type": "integer"
        }
       ],
       "ref": "2ca6c0dc-bd35-4f60-a2cc-6b39d427b31e",
       "rows": [
        [
         "77",
         "0",
         "0",
         "0",
         "421"
        ],
        [
         "1.0",
         "7205",
         "0",
         "0",
         "0"
        ],
        [
         "2.0",
         "0",
         "9043",
         "0",
         "0"
        ],
        [
         "3.0",
         "0",
         "0",
         "4166",
         "0"
        ],
        [
         "4.0",
         "0",
         "86",
         "0",
         "0"
        ],
        [
         "5.0",
         "0",
         "0",
         "288",
         "0"
        ],
        [
         "7.0",
         "89",
         "0",
         "0",
         "0"
        ],
        [
         "8.0",
         "0",
         "14",
         "0",
         "0"
        ]
       ],
       "shape": {
        "columns": 4,
        "rows": 8
       }
      },
      "text/html": [
       "<div>\n",
       "<style scoped>\n",
       "    .dataframe tbody tr th:only-of-type {\n",
       "        vertical-align: middle;\n",
       "    }\n",
       "\n",
       "    .dataframe tbody tr th {\n",
       "        vertical-align: top;\n",
       "    }\n",
       "\n",
       "    .dataframe thead th {\n",
       "        text-align: right;\n",
       "    }\n",
       "</style>\n",
       "<table border=\"1\" class=\"dataframe\">\n",
       "  <thead>\n",
       "    <tr style=\"text-align: right;\">\n",
       "      <th>diagnosis_CD</th>\n",
       "      <th>1.0</th>\n",
       "      <th>2.0</th>\n",
       "      <th>3.0</th>\n",
       "      <th>77.0</th>\n",
       "    </tr>\n",
       "    <tr>\n",
       "      <th>diagnosis_CD_raw</th>\n",
       "      <th></th>\n",
       "      <th></th>\n",
       "      <th></th>\n",
       "      <th></th>\n",
       "    </tr>\n",
       "  </thead>\n",
       "  <tbody>\n",
       "    <tr>\n",
       "      <th>77</th>\n",
       "      <td>0</td>\n",
       "      <td>0</td>\n",
       "      <td>0</td>\n",
       "      <td>421</td>\n",
       "    </tr>\n",
       "    <tr>\n",
       "      <th>1.0</th>\n",
       "      <td>7205</td>\n",
       "      <td>0</td>\n",
       "      <td>0</td>\n",
       "      <td>0</td>\n",
       "    </tr>\n",
       "    <tr>\n",
       "      <th>2.0</th>\n",
       "      <td>0</td>\n",
       "      <td>9043</td>\n",
       "      <td>0</td>\n",
       "      <td>0</td>\n",
       "    </tr>\n",
       "    <tr>\n",
       "      <th>3.0</th>\n",
       "      <td>0</td>\n",
       "      <td>0</td>\n",
       "      <td>4166</td>\n",
       "      <td>0</td>\n",
       "    </tr>\n",
       "    <tr>\n",
       "      <th>4.0</th>\n",
       "      <td>0</td>\n",
       "      <td>86</td>\n",
       "      <td>0</td>\n",
       "      <td>0</td>\n",
       "    </tr>\n",
       "    <tr>\n",
       "      <th>5.0</th>\n",
       "      <td>0</td>\n",
       "      <td>0</td>\n",
       "      <td>288</td>\n",
       "      <td>0</td>\n",
       "    </tr>\n",
       "    <tr>\n",
       "      <th>7.0</th>\n",
       "      <td>89</td>\n",
       "      <td>0</td>\n",
       "      <td>0</td>\n",
       "      <td>0</td>\n",
       "    </tr>\n",
       "    <tr>\n",
       "      <th>8.0</th>\n",
       "      <td>0</td>\n",
       "      <td>14</td>\n",
       "      <td>0</td>\n",
       "      <td>0</td>\n",
       "    </tr>\n",
       "  </tbody>\n",
       "</table>\n",
       "</div>"
      ],
      "text/plain": [
       "diagnosis_CD      1.0   2.0   3.0   77.0\n",
       "diagnosis_CD_raw                        \n",
       "77                   0     0     0   421\n",
       "1.0               7205     0     0     0\n",
       "2.0                  0  9043     0     0\n",
       "3.0                  0     0  4166     0\n",
       "4.0                  0    86     0     0\n",
       "5.0                  0     0   288     0\n",
       "7.0                 89     0     0     0\n",
       "8.0                  0    14     0     0"
      ]
     },
     "execution_count": 17,
     "metadata": {},
     "output_type": "execute_result"
    }
   ],
   "source": [
    "pd.crosstab(adni_diag1['diagnosis_CD_raw'],adni_diag1['diagnosis_CD'])"
   ]
  },
  {
   "cell_type": "code",
   "execution_count": 18,
   "id": "ef5da805",
   "metadata": {},
   "outputs": [
    {
     "name": "stdout",
     "output_type": "stream",
     "text": [
      "╒══════════════════════════╤═══════╤═══════════╤══════════════╕\n",
      "│                          │       │ Missing   │ Overall      │\n",
      "╞══════════════════════════╪═══════╪═══════════╪══════════════╡\n",
      "│ n                        │       │           │ 21312        │\n",
      "├──────────────────────────┼───────┼───────────┼──────────────┤\n",
      "│ diagnosis_CD, n (%)      │ 1.0   │           │ 7294 (34.2)  │\n",
      "├──────────────────────────┼───────┼───────────┼──────────────┤\n",
      "│                          │ 2.0   │           │ 9143 (42.9)  │\n",
      "├──────────────────────────┼───────┼───────────┼──────────────┤\n",
      "│                          │ 3.0   │           │ 4454 (20.9)  │\n",
      "├──────────────────────────┼───────┼───────────┼──────────────┤\n",
      "│                          │ 77.0  │           │ 421 (2.0)    │\n",
      "├──────────────────────────┼───────┼───────────┼──────────────┤\n",
      "│ diagnosis_changed, n (%) │ False │           │ 20849 (97.8) │\n",
      "├──────────────────────────┼───────┼───────────┼──────────────┤\n",
      "│                          │ True  │           │ 463 (2.2)    │\n",
      "├──────────────────────────┼───────┼───────────┼──────────────┤\n",
      "│ exclude_ID, n (%)        │ False │           │ 21212 (99.5) │\n",
      "├──────────────────────────┼───────┼───────────┼──────────────┤\n",
      "│                          │ True  │           │ 100 (0.5)    │\n",
      "├──────────────────────────┼───────┼───────────┼──────────────┤\n",
      "│ cn_to_mci, n (%)         │ False │           │ 21230 (99.6) │\n",
      "├──────────────────────────┼───────┼───────────┼──────────────┤\n",
      "│                          │ True  │           │ 82 (0.4)     │\n",
      "├──────────────────────────┼───────┼───────────┼──────────────┤\n",
      "│ mci_to_ad, n (%)         │ False │           │ 21037 (98.7) │\n",
      "├──────────────────────────┼───────┼───────────┼──────────────┤\n",
      "│                          │ True  │           │ 275 (1.3)    │\n",
      "├──────────────────────────┼───────┼───────────┼──────────────┤\n",
      "│ diagnosis_CD_raw, n (%)  │ 1.0   │           │ 7205 (33.8)  │\n",
      "├──────────────────────────┼───────┼───────────┼──────────────┤\n",
      "│                          │ 2.0   │           │ 9043 (42.4)  │\n",
      "├──────────────────────────┼───────┼───────────┼──────────────┤\n",
      "│                          │ 3.0   │           │ 4166 (19.5)  │\n",
      "├──────────────────────────┼───────┼───────────┼──────────────┤\n",
      "│                          │ 4.0   │           │ 86 (0.4)     │\n",
      "├──────────────────────────┼───────┼───────────┼──────────────┤\n",
      "│                          │ 5.0   │           │ 288 (1.4)    │\n",
      "├──────────────────────────┼───────┼───────────┼──────────────┤\n",
      "│                          │ 7.0   │           │ 89 (0.4)     │\n",
      "├──────────────────────────┼───────┼───────────┼──────────────┤\n",
      "│                          │ 77    │           │ 421 (2.0)    │\n",
      "├──────────────────────────┼───────┼───────────┼──────────────┤\n",
      "│                          │ 8.0   │           │ 14 (0.1)     │\n",
      "╘══════════════════════════╧═══════╧═══════════╧══════════════╛\n"
     ]
    }
   ],
   "source": [
    "adni_diag1['cn_to_mci'] = (\n",
    "    (adni_diag1['diagnosis_CD'].shift() == 1) &   # Previous was MCI\n",
    "    (adni_diag1['diagnosis_CD'] == 2) &           # Current is AD\n",
    "    (adni_diag1['diagnosis_changed']) &           # Must be a real change\n",
    "    (adni_diag1['time_from_bl'] > 0)              # Not baseline\n",
    ")\n",
    "\n",
    "adni_diag1['mci_to_ad'] = (\n",
    "    (adni_diag1['diagnosis_CD'].shift() == 2) &   # Previous was MCI\n",
    "    (adni_diag1['diagnosis_CD'] == 3) &           # Current is AD\n",
    "    (adni_diag1['diagnosis_changed']) &           # Must be a real change\n",
    "    (adni_diag1['time_from_bl'] > 0)              # Not baseline\n",
    ")\n",
    "mytable = TableOne(adni_diag1, columns=['diagnosis_CD', 'diagnosis_changed', 'exclude_ID', 'cn_to_mci', 'mci_to_ad', 'diagnosis_CD_raw'])\n",
    "print(mytable.tabulate(tablefmt = \"fancy_grid\"))\n"
   ]
  },
  {
   "cell_type": "code",
   "execution_count": 19,
   "id": "d5039966",
   "metadata": {},
   "outputs": [],
   "source": [
    "adni_diag_short = adni_diag1[['Project', 'Individual', 'TimePoint', 'InputIds', 'DXCHANGE',\n",
    "       'DXCURREN', 'DXPARK', 'DIAGNOSIS', 'BCSTROKE', 'diag_current', 'diag_change',\n",
    "       'diagnosis_CD_raw', 'diagnosis_CD', 'time_from_bl', 'diagnosis_changed',\n",
    "       'exclude_ID', 'cn_to_mci', 'mci_to_ad']]\n",
    "adni_diag_short = adni_diag_short.rename(columns={'InputIds':'GUID'})\n",
    "adni_diag_short = adni_diag_short.drop(columns=['DXPARK', 'BCSTROKE'])"
   ]
  },
  {
   "cell_type": "code",
   "execution_count": 20,
   "id": "807b3580",
   "metadata": {
    "vscode": {
     "languageId": "ruby"
    }
   },
   "outputs": [],
   "source": [
    "adni4_ = pd.merge(adni3, adni_diag_short, how='left')\n"
   ]
  },
  {
   "cell_type": "code",
   "execution_count": 21,
   "id": "3d6114d5",
   "metadata": {
    "vscode": {
     "languageId": "ruby"
    }
   },
   "outputs": [
    {
     "data": {
      "application/vnd.microsoft.datawrangler.viewer.v0+json": {
       "columns": [
        {
         "name": "diagnosis_CD",
         "rawType": "float64",
         "type": "float"
        },
        {
         "name": "count",
         "rawType": "int64",
         "type": "integer"
        }
       ],
       "ref": "d45eb3a0-c7bb-4ad1-9809-69e35354d486",
       "rows": [
        [
         "2.0",
         "615"
        ],
        [
         "1.0",
         "430"
        ],
        [
         "3.0",
         "305"
        ],
        [
         "77.0",
         "2"
        ]
       ],
       "shape": {
        "columns": 1,
        "rows": 4
       }
      },
      "text/plain": [
       "diagnosis_CD\n",
       "2.0     615\n",
       "1.0     430\n",
       "3.0     305\n",
       "77.0      2\n",
       "Name: count, dtype: int64"
      ]
     },
     "execution_count": 21,
     "metadata": {},
     "output_type": "execute_result"
    }
   ],
   "source": [
    "adni4_['diagnosis_CD'].value_counts()"
   ]
  },
  {
   "cell_type": "code",
   "execution_count": 22,
   "id": "99412d87",
   "metadata": {
    "vscode": {
     "languageId": "ruby"
    }
   },
   "outputs": [
    {
     "data": {
      "application/vnd.microsoft.datawrangler.viewer.v0+json": {
       "columns": [
        {
         "name": "diagnosis_CD",
         "rawType": "float64",
         "type": "float"
        },
        {
         "name": "count",
         "rawType": "int64",
         "type": "integer"
        }
       ],
       "ref": "214a3a6a-2b87-4622-a6a4-829e1b9be54f",
       "rows": [
        [
         "2.0",
         "609"
        ],
        [
         "1.0",
         "429"
        ],
        [
         "3.0",
         "300"
        ]
       ],
       "shape": {
        "columns": 1,
        "rows": 3
       }
      },
      "text/plain": [
       "diagnosis_CD\n",
       "2.0    609\n",
       "1.0    429\n",
       "3.0    300\n",
       "Name: count, dtype: int64"
      ]
     },
     "execution_count": 22,
     "metadata": {},
     "output_type": "execute_result"
    }
   ],
   "source": [
    "adni4 = adni4_[adni4_['diagnosis_CD'] != 77]\n",
    "#Remove Ids with parkinsonism and stroke\n",
    "adni4 = adni4.copy()\n",
    "adni4 = adni4[\n",
    "    (adni4['DXPARK'].fillna(0) != 1) & \n",
    "    (adni4['HMSTROKE'].fillna(0) != 1)\n",
    "].copy()\n",
    "\n",
    "adni4['diagnosis_CD'].value_counts()"
   ]
  },
  {
   "cell_type": "code",
   "execution_count": 23,
   "id": "9fbae92f",
   "metadata": {
    "vscode": {
     "languageId": "ruby"
    }
   },
   "outputs": [
    {
     "name": "stdout",
     "output_type": "stream",
     "text": [
      "HMSTROKE\n",
      "0.0    1338\n",
      "Name: count, dtype: int64\n",
      "DXPARK\n",
      " 0.0    901\n",
      "-4.0    377\n",
      "Name: count, dtype: int64\n"
     ]
    }
   ],
   "source": [
    "print(adni4['HMSTROKE'].value_counts())\n",
    "print(adni4['DXPARK'].value_counts())"
   ]
  },
  {
   "cell_type": "markdown",
   "id": "09efc6a2",
   "metadata": {},
   "source": [
    "## Organize MOCA\n",
    "#https://www.smchealth.org/sites/main/files/file-attachments/moca-instructions-english_2010.pdf\n",
    "#https://www.smchealth.org/sites/main/files/file-attachments/moca-instructions-english_2010.pdf"
   ]
  },
  {
   "cell_type": "code",
   "execution_count": 24,
   "id": "b241140c",
   "metadata": {},
   "outputs": [],
   "source": [
    "moca_df = pd.read_csv(os.path.join(dir, 'adni_moca_20250612.csv'))\n",
    "moca_df = moca_df[moca_df['Phase'].notna()]\n",
    "#ADjust variables\n",
    "moca_df = moca_df.drop(columns=['IMMT1W1', 'IMMT1W2', 'IMMT1W3', 'IMMT1W4', 'IMMT1W5', 'IMMT2W1', 'IMMT2W2', 'IMMT2W3', 'IMMT2W4', 'IMMT2W5' ])\n",
    "\n",
    "# Letters = 0 or 1 error gives 1 point, else is 0\n",
    "moca_df['letters_bi'] = np.where(moca_df['LETTERS'].isin([0, 1]), 1, 0)\n",
    "moca_df = moca_df.drop(columns=['LETTERS'])\n",
    "\n",
    "#FLUENCY\n",
    "# if more than 0 < 11 < 1\n",
    "moca_df['fluency'] = (moca_df['FFLUENCY'] >= 11).astype(int)\n",
    "moca_df = moca_df.drop(columns=['FFLUENCY'])\n",
    "\n",
    "# SERIAL \n",
    "#Give no (0) points for no correct subtractions, 1 point for one correction subtraction, 2 points for two-to-three correct subtractions, and 3 points if the participant successfully makes four or five correct subtractions\n",
    "serial_cols = [col for col in moca_df.columns if col.startswith('SERIAL')]\n",
    "moca_df['serial_sum'] = moca_df[serial_cols].sum(axis=1)\n",
    "moca_df['serial_sum'] = np.where(moca_df['serial_sum'].isin([4, 5]), 3, 0)\n",
    "moca_df = moca_df.drop(columns=['SERIAL1', 'SERIAL2', 'SERIAL3', 'SERIAL4', 'SERIAL5'])\n",
    "\n",
    "#DEL\n",
    "# 1=Correct with No Cue; 2=Correct with Category Cue; 3=Correct with Mult. Choice Cue; 0=Incorrect\n",
    "# 1 point only with correct with no cue\n",
    "moca_df['delw1'] = (moca_df['DELW1'] == 1).astype(int)\n",
    "moca_df['delw2'] = (moca_df['DELW2'] == 1).astype(int)\n",
    "moca_df['delw3'] = (moca_df['DELW3'] == 1).astype(int)\n",
    "moca_df['delw4'] = (moca_df['DELW4'] == 1).astype(int)\n",
    "moca_df['delw5'] = (moca_df['DELW5'] == 1).astype(int)\n",
    "moca_df = moca_df.drop(columns=['DELW1', 'DELW2', 'DELW3', 'DELW4', 'DELW5'])\n",
    "\n",
    "moca_df['moca_score'] = moca_df.iloc[:,8:].sum(axis=1)\n"
   ]
  },
  {
   "cell_type": "code",
   "execution_count": 25,
   "id": "2e7e97c4",
   "metadata": {
    "vscode": {
     "languageId": "ruby"
    }
   },
   "outputs": [],
   "source": [
    "# put moca together with the data \n",
    "moca_df_short = moca_df[['freesurfer_6_0_0_aparc_thickness_GUID', 'moca_score']]\n",
    "adni5 = pd.merge(adni4, moca_df_short, on= 'freesurfer_6_0_0_aparc_thickness_GUID', how='left')"
   ]
  },
  {
   "cell_type": "code",
   "execution_count": 26,
   "id": "2b37bd26",
   "metadata": {
    "vscode": {
     "languageId": "ruby"
    }
   },
   "outputs": [],
   "source": [
    "#adni5"
   ]
  },
  {
   "cell_type": "markdown",
   "id": "c6501d91",
   "metadata": {},
   "source": [
    "## Merge ADNI with biological data\n",
    "Amyloid SUVR\n",
    "ptau181 : https://pubmed.ncbi.nlm.nih.gov/32333900/\n",
    "          https://pubmed.ncbi.nlm.nih.gov/29626426/\n",
    "          https://adni.bitbucket.io/reference/docs/UGOTPTAU181/UGOT_Lab_-_ADNI_1-Go-2_-_Method_-_Plasma_P-tau181_longitudinal.pdf\n",
    "Alpha-synuclein"
   ]
  },
  {
   "cell_type": "code",
   "execution_count": 27,
   "id": "12c10d86",
   "metadata": {},
   "outputs": [
    {
     "name": "stderr",
     "output_type": "stream",
     "text": [
      "/tmp/ipykernel_194097/2394710732.py:6: UserWarning: Could not infer format, so each element will be parsed individually, falling back to `dateutil`. To ensure parsing is consistent and as-expected, please specify a format.\n",
      "  adni_bio['EXAMDATE_SUVR1.08'] = pd.to_datetime(adni_bio['EXAMDATE.2'], errors='coerce')\n"
     ]
    }
   ],
   "source": [
    "#Load\n",
    "adni_bio = pd.read_csv(os.path.join(dir, 'ADNI_BIOMARKERS_SUV_TAU_20250613.csv'))\n",
    "# Be sure dates are in the right format\n",
    "adni_bio['EXAMDATE_asyn'] = pd.to_datetime(adni_bio['EXAMDATE'], errors='coerce')\n",
    "adni_bio['EXAMDATE_SUVR1.11'] = pd.to_datetime(adni_bio['EXAMDATE.1'], errors='coerce')\n",
    "adni_bio['EXAMDATE_SUVR1.08'] = pd.to_datetime(adni_bio['EXAMDATE.2'], errors='coerce')\n",
    "adni_bio['EXAMDATE_ptau181'] = pd.to_datetime(adni_bio['EXAMDATE.3'], errors='coerce')\n",
    "# Exclude the examdate in wrong format\n",
    "adni_bio = adni_bio.drop(columns=['EXAMDATE', 'EXAMDATE.1','EXAMDATE.2','EXAMDATE.3', 'registry_vdate'])\n",
    "# rename columns\n",
    "adni_bio = adni_bio.rename(columns={'Result': 'alpha_syn'})"
   ]
  },
  {
   "cell_type": "code",
   "execution_count": 28,
   "id": "f44126ba",
   "metadata": {
    "vscode": {
     "languageId": "ruby"
    }
   },
   "outputs": [],
   "source": [
    "# Create 'amy_status' using the first non-null value from the two columns\n",
    "adni_bio['amy_status'] = np.where(pd.notna(adni_bio['SUMMARYSUVR_WHOLECEREBNORM_1.11CUTOFF']),\n",
    "                                           adni_bio['SUMMARYSUVR_WHOLECEREBNORM_1.11CUTOFF'],\n",
    "                                           adni_bio['SUMMARYSUVR_WHOLECEREBNORM_1.08CUTOFF'])\n"
   ]
  },
  {
   "cell_type": "code",
   "execution_count": 29,
   "id": "bcd01c5c",
   "metadata": {
    "vscode": {
     "languageId": "ruby"
    }
   },
   "outputs": [],
   "source": [
    "adni_bio_short = adni_bio[['freesurfer_6_0_0_aparc_thickness_GUID', \n",
    "                           'amy_status', 'PLASMAPTAU181','alpha_syn']]\n",
    "\n",
    "adni6 = pd.merge(adni5, adni_bio_short, on= 'freesurfer_6_0_0_aparc_thickness_GUID', how='left')"
   ]
  },
  {
   "cell_type": "code",
   "execution_count": 30,
   "id": "73c565bb",
   "metadata": {
    "vscode": {
     "languageId": "ruby"
    }
   },
   "outputs": [],
   "source": [
    "#adni6.info()"
   ]
  },
  {
   "cell_type": "markdown",
   "id": "0ec8f50d",
   "metadata": {},
   "source": [
    "# APOE"
   ]
  },
  {
   "cell_type": "code",
   "execution_count": 31,
   "id": "c5272dd2",
   "metadata": {
    "vscode": {
     "languageId": "ruby"
    }
   },
   "outputs": [],
   "source": [
    "adni_apoe = pd.read_csv(os.path.join(dir, 'ADNI_APOE_20250616.csv'))\n",
    "\n",
    "adni_apoe['APGEN1'] = adni_apoe['APGEN1'].astype(float)\n",
    "adni_apoe['APGEN2'] = adni_apoe['APGEN2'].astype(float)\n",
    "\n",
    "adni_apoe['apoe_e4'] = np.where(\n",
    "    (adni_apoe['APGEN1'] == 4) | (adni_apoe['APGEN2'] == 4),\n",
    "    1,  # True case\n",
    "    0   # False case\n",
    ")\n",
    "\n",
    "# Count number of APOE ε4 alleles (each allele == 4)\n",
    "adni_apoe['apoe_e4_count'] = (\n",
    "    (adni_apoe['APGEN1'] == 4).astype(int) + \n",
    "    (adni_apoe['APGEN2'] == 4).astype(int)\n",
    ")\n",
    "\n",
    "adni_apoe_short = adni_apoe[['freesurfer_6_0_0_aparc_thickness_GUID', 'apoe_e4', 'apoe_e4_count']]\n",
    "adni7 = pd.merge(adni6, adni_apoe_short, on= 'freesurfer_6_0_0_aparc_thickness_GUID', how='left')"
   ]
  },
  {
   "cell_type": "markdown",
   "id": "a04ac24c",
   "metadata": {},
   "source": [
    "# TABLE 1 "
   ]
  },
  {
   "cell_type": "code",
   "execution_count": 32,
   "id": "4c2fdadb",
   "metadata": {
    "vscode": {
     "languageId": "ruby"
    }
   },
   "outputs": [],
   "source": [
    "table_df = adni7.copy()\n",
    "\n",
    "# Cleaning of data\n",
    "\n",
    "table_df['CDGLOBAL'] = table_df['CDGLOBAL'].replace(-1, np.nan)\n",
    "#table_df['PLASMAPTAU181'] = table_df['PLASMAPTAU181'].replace('None', np.nan)\n",
    "# Alpha synuclein\n",
    "# https://alz-journals.onlinelibrary.wiley.com/doi/full/10.1002/alz.14571\n",
    "# \"CSF samples were classified into one of four categories: “PD/DLB-like Detected” (Type 1) if α-syn aggregates were consistent with seeds observed in Parkinson's disease and dementia with Lewy bodies (DLB); \n",
    "# “MSA-like Detected” (Type 2) if α-syn aggregates matched seeds that are typically seen in multiple system atrophy; “Not Detected” if no α-syn aggregates were observed; or “Indeterminate” if samples did not \n",
    "# yield a definite result after two tests. For all subsequent analyses in this study, only Type 1 cases (n = 196; 34 CU and 162 CI) were considered SAA+, and only “Not Detected” cases (n = 633; 147 CU and 486 CI) \n",
    "# were considered SAA–. Both Type 2 (n = 2; 1 CU and 1 CI) and Indeterminate cases (n = 7; 1 CU and 6 CI) were excluded. All CSF α-syn SAA analyses were performed with analysts blinded to participants’ \n",
    "# demographic details, clinical profiles, and AD biomarker data.\"\n",
    "\n",
    "table_df['alpha_syn_'] = table_df['alpha_syn'].replace('Detected-1', '1')\n",
    "table_df['alpha_syn_'] = table_df['alpha_syn'].replace('Detected-2', '1')\n",
    "table_df['alpha_syn_'] = table_df['alpha_syn'].replace('Not_Detected', '0')\n",
    "table_df['alpha_syn_'] = table_df['alpha_syn'].replace('Indeterminate', '2')\n",
    "table_df['alpha_syn_'] = table_df['alpha_syn'].replace('None', '0')\n"
   ]
  },
  {
   "cell_type": "code",
   "execution_count": 33,
   "id": "cf04036f",
   "metadata": {
    "vscode": {
     "languageId": "ruby"
    }
   },
   "outputs": [
    {
     "data": {
      "text/plain": [
       "array([1., 3., 2.])"
      ]
     },
     "execution_count": 33,
     "metadata": {},
     "output_type": "execute_result"
    }
   ],
   "source": [
    "adni4.diagnosis_CD.unique()"
   ]
  },
  {
   "cell_type": "code",
   "execution_count": 34,
   "id": "0fe4d5e6",
   "metadata": {
    "vscode": {
     "languageId": "ruby"
    }
   },
   "outputs": [],
   "source": [
    "# Organize groups\n",
    "#make sure data is numeric\n",
    "table_df['diagnosis_CD'] = table_df['diagnosis_CD'].astype('float')  \n",
    "table_df['amy_status'] = table_df['amy_status'].astype('float')\n",
    "\n",
    "# Create the conditions and code for groups\n",
    "conditions = [\n",
    "    (table_df['diagnosis_CD'] == 1) & (table_df['amy_status'] == 0),  # CN, amy- 0\n",
    "    (table_df['diagnosis_CD'] == 1) & (table_df['amy_status'] == 1),  # CN, amy+ 1\n",
    "    (table_df['diagnosis_CD'] == 2) & (table_df['amy_status'] == 0),  # MCI, amy- 2\n",
    "    (table_df['diagnosis_CD'] == 2) & (table_df['amy_status'] == 1),  # MCI, amy+ 3\n",
    "    (table_df['diagnosis_CD'] == 3) & (table_df['amy_status'] == 0),  # AD, amy- 4\n",
    "    (table_df['diagnosis_CD'] == 3) & (table_df['amy_status'] == 1),  # AD, amy+ 5\n",
    "]\n",
    "\n",
    "group_codes = [0, 1, 4, 2, 5, 3]\n",
    "\n",
    "table_df['group_code'] = np.select(conditions, group_codes, default=np.nan)\n",
    "\n",
    "group_labels = {\n",
    "    0: 'CN amy-',\n",
    "    1: 'CN amy+',\n",
    "    4: 'MCI amy-',\n",
    "    2: 'MCI amy+',\n",
    "    5: 'AD amy-',\n",
    "    3: 'AD amy+'\n",
    "}\n",
    "\n",
    "table_df['group_label'] = table_df['group_code'].map(group_labels)\n",
    "\n",
    "table_df = table_df[~table_df['group_code'].isin([4, 5])]"
   ]
  },
  {
   "cell_type": "code",
   "execution_count": 35,
   "id": "d62e5e0e",
   "metadata": {
    "vscode": {
     "languageId": "ruby"
    }
   },
   "outputs": [
    {
     "name": "stdout",
     "output_type": "stream",
     "text": [
      "|                            |               | Missing   | Overall     | 0.0         | 1.0         | 2.0         | 3.0         | P-Value   |\n",
      "|----------------------------|---------------|-----------|-------------|-------------|-------------|-------------|-------------|-----------|\n",
      "| n                          |               |           | 1153        | 195         | 104         | 189         | 148         |           |\n",
      "| Age at MRI scan, mean (SD) |               | 0         | 75.1 (7.0)  | 74.0 (6.6)  | 76.0 (6.2)  | 74.4 (6.9)  | 74.8 (7.7)  | 0.088     |\n",
      "| Age at FDG scan, mean (SD) |               | 0         | 75.1 (7.0)  | 74.0 (6.6)  | 76.1 (6.1)  | 74.5 (6.9)  | 74.9 (7.7)  | 0.086     |\n",
      "| MMSE, mean (SD)            |               | 60        | 26.7 (3.6)  | 29.0 (1.3)  | 29.0 (1.2)  | 27.4 (2.2)  | 22.2 (3.8)  | <0.001    |\n",
      "| CDR-SOB, n (%)             | 0.0           |           | 397 (34.4)  | 188 (96.4)  | 96 (92.3)   | 8 (4.2)     | 0 (0.0)     | <0.001    |\n",
      "|                            | 0.5           |           | 514 (44.6)  | 5 (2.6)     | 7 (6.7)     | 173 (91.5)  | 51 (34.5)   |           |\n",
      "|                            | 1.0           |           | 160 (13.9)  | 0 (0.0)     | 0 (0.0)     | 7 (3.7)     | 90 (60.8)   |           |\n",
      "|                            | 2.0           |           | 17 (1.5)    | 0 (0.0)     | 0 (0.0)     | 0 (0.0)     | 6 (4.1)     |           |\n",
      "|                            | 3.0           |           | 1 (0.1)     | 0 (0.0)     | 0 (0.0)     | 0 (0.0)     | 1 (0.7)     |           |\n",
      "|                            | None          |           | 64 (5.6)    | 2 (1.0)     | 1 (1.0)     | 1 (0.5)     | 0 (0.0)     |           |\n",
      "| MoCA, mean (SD)            |               | 458       | 22.2 (5.3)  | 25.7 (2.6)  | 25.0 (2.9)  | 22.1 (3.8)  | 15.4 (5.4)  | <0.001    |\n",
      "| Aplha-synuclein, n (%)     | Detected-1    |           | 210 (18.2)  | 25 (12.8)   | 18 (17.3)   | 45 (23.8)   | 50 (33.8)   | <0.001    |\n",
      "|                            | Detected-2    |           | 3 (0.3)     | 1 (0.5)     | 0 (0.0)     | 0 (0.0)     | 0 (0.0)     |           |\n",
      "|                            | Indeterminate |           | 6 (0.5)     | 0 (0.0)     | 2 (1.9)     | 0 (0.0)     | 1 (0.7)     |           |\n",
      "|                            | None          |           | 281 (24.4)  | 26 (13.3)   | 13 (12.5)   | 17 (9.0)    | 17 (11.5)   |           |\n",
      "|                            | Not_Detected  |           | 653 (56.6)  | 143 (73.3)  | 71 (68.3)   | 127 (67.2)  | 80 (54.1)   |           |\n",
      "| cn_to_mci, n (%)           | False         |           | 1147 (99.5) | 195 (100.0) | 104 (100.0) | 187 (98.9)  | 148 (100.0) | 0.191     |\n",
      "|                            | True          |           | 6 (0.5)     | 0 (0.0)     | 0 (0.0)     | 2 (1.1)     | 0 (0.0)     |           |\n",
      "| mci_to_ad, n (%)           | False         |           | 1125 (97.6) | 195 (100.0) | 104 (100.0) | 189 (100.0) | 131 (88.5)  | <0.001    |\n",
      "|                            | True          |           | 28 (2.4)    | 0 (0.0)     | 0 (0.0)     | 0 (0.0)     | 17 (11.5)   |           |\n"
     ]
    }
   ],
   "source": [
    "columns = ['age_MRI', 'age_FDG', 'amy_status','group_label', \n",
    "           'MMSCORE','CDGLOBAL', 'moca_score', \n",
    "           'PLASMAPTAU181', 'alpha_syn', 'time_from_bl', 'diagnosis_changed', \n",
    "           'cn_to_mci', 'mci_to_ad'\n",
    "        ]\n",
    "\n",
    "categorical = ['CDGLOBAL', 'alpha_syn', 'cn_to_mci', 'mci_to_ad']\n",
    "continuous = ['age_MRI', 'age_FDG', 'MMSCORE', 'moca_score' ]\n",
    "nonnormal = []\n",
    "rename={'age_MRI': 'Age at MRI scan', 'age_FDG': 'Age at FDG scan', \n",
    "        'MMSCORE':'MMSE','CDGLOBAL':'CDR-SOB', 'moca_score':'MoCA', \n",
    "        'PLASMAPTAU181':'Plasma_pTau181', 'alpha_syn':'Aplha-synuclein'}\n",
    "groupby='group_code'\n",
    "\n",
    "#https://tableone.readthedocs.io/en/latest/index.html\n",
    "mytable = TableOne(table_df, columns=columns, \n",
    "                    categorical=categorical, continuous=continuous, \n",
    "                    groupby=groupby, \n",
    "                    nonnormal=nonnormal, \n",
    "                    rename=rename, pval=True)\n",
    "\n",
    "print(mytable.tabulate(tablefmt=\"github\"))\n",
    "#“github”, “grid”, “fancy_grid”, “rst”, “html”, and “latex”."
   ]
  },
  {
   "cell_type": "code",
   "execution_count": 41,
   "id": "00455ee6",
   "metadata": {},
   "outputs": [],
   "source": [
    "table_df.to_csv(os.path.join(dir, 'ADNI_PET_FDG_DATA_20250623.csv'))"
   ]
  },
  {
   "cell_type": "code",
   "execution_count": 37,
   "id": "f027a010",
   "metadata": {},
   "outputs": [
    {
     "data": {
      "text/plain": [
       "<Axes: xlabel='group_code', ylabel='MMSCORE'>"
      ]
     },
     "execution_count": 37,
     "metadata": {},
     "output_type": "execute_result"
    },
    {
     "data": {
      "image/png": "[encoded data removed]",
      "text/plain": [
       "<Figure size 640x480 with 1 Axes>"
      ]
     },
     "metadata": {},
     "output_type": "display_data"
    }
   ],
   "source": [
    "#some visual stats\n",
    "import seaborn as sns\n",
    "\n",
    "sns.boxplot(data=table_df, x='group_code', y='MMSCORE', hue='group_code')\n",
    "sns.regplot(data=table_df, x='group_code', y='MMSCORE', scatter=False, color='r')"
   ]
  },
  {
   "cell_type": "code",
   "execution_count": 40,
   "id": "64d7965c",
   "metadata": {},
   "outputs": [
    {
     "data": {
      "text/plain": [
       "<Axes: xlabel='group_code', ylabel='moca_score'>"
      ]
     },
     "execution_count": 40,
     "metadata": {},
     "output_type": "execute_result"
    },
    {
     "data": {
      "image/png": "[encoded data removed]",
      "text/plain": [
       "<Figure size 640x480 with 1 Axes>"
      ]
     },
     "metadata": {},
     "output_type": "display_data"
    }
   ],
   "source": [
    "sns.regplot(data=table_df, x='group_code', y='moca_score', scatter=True)"
   ]
  },
  {
   "cell_type": "code",
   "execution_count": null,
   "id": "9700d180",
   "metadata": {},
   "outputs": [],
   "source": []
  }
 ],
 "metadata": {
  "kernelspec": {
   "display_name": "workspace",
   "language": "python",
   "name": "python3"
  },
  "language_info": {
   "codemirror_mode": {
    "name": "ipython",
    "version": 3
   },
   "file_extension": ".py",
   "mimetype": "text/x-python",
   "name": "python",
   "nbconvert_exporter": "python",
   "pygments_lexer": "ipython3",
   "version": "3.12.10"
  }
 },
 "nbformat": 4,
 "nbformat_minor": 5
}
