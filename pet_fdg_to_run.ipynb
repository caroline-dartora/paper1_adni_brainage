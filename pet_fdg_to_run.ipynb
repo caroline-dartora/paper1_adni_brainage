{
 "cells": [
  {
   "cell_type": "markdown",
   "id": "e1f15868",
   "metadata": {},
   "source": [
    "# Selection of PET FDG images to process"
   ]
  },
  {
   "cell_type": "code",
   "execution_count": 1,
   "id": "9beccaf6",
   "metadata": {},
   "outputs": [],
   "source": [
    "import os\n",
    "import pandas as pd \n"
   ]
  },
  {
   "cell_type": "code",
   "execution_count": 2,
   "id": "1544a06f",
   "metadata": {},
   "outputs": [],
   "source": [
    "dir = '/scratch/caroline/papers/ongoing/project00/ADNI_analysis/data'\n",
    "file = pd.read_csv(os.path.join(dir, 'pet_info.csv'), header=None, delimiter='/')\n",
    "scalar = pd.read_csv('/scratch/caroline/papers/ongoing/project00/BA_predictions_2025/data/adni/adni_20250528.csv')\n",
    "img = pd.read_csv('/scratch/caroline/papers/ongoing/project00/BA_predictions_2025/data/adni/adni_nifti_20250522.csv',usecols=['GUID','Individual','Timepoint', 'Scan date'])\n",
    "img = img.rename(columns={'Timepoint':'TimePoint'})\n",
    "scalar = scalar.rename(columns={'InputIds':'GUID'})\n"
   ]
  },
  {
   "cell_type": "code",
   "execution_count": 3,
   "id": "e5205e6f",
   "metadata": {},
   "outputs": [],
   "source": [
    "#Drop duplicated rows --> one row per patient per scan date file=PET data\n",
    "file1 = file.drop_duplicates()\n",
    "# Separate info that is in one column\n",
    "file1[['date', 'time']] = file1[3].str.split('_', n=1, expand=True)\n",
    "file1[['ID', 'date0', 'time0', 'project']] = file1[0].str.extract(r'(\\d+)\\s+(\\d{4}-\\d{2}-\\d{2})\\s+(\\d{2}:\\d{2})\\s+(\\w+)')\n",
    "#Remove unnecessary info\n",
    "#file2 = file1.drop(columns=[0,3, 'date0', 'time0', 'project', 'time'])\n",
    "# Rename the other columns\n",
    "file2 = file1.rename(columns={1:'Individual'})"
   ]
  },
  {
   "cell_type": "code",
   "execution_count": 4,
   "id": "1f75121f",
   "metadata": {},
   "outputs": [
    {
     "name": "stderr",
     "output_type": "stream",
     "text": [
      "/tmp/ipykernel_3067413/4112848987.py:6: FutureWarning: Downcasting object dtype arrays on .fillna, .ffill, .bfill is deprecated and will change in a future version. Call result.infer_objects(copy=False) instead. To opt-in to the future behavior, set `pd.set_option('future.no_silent_downcasting', True)`\n",
      "  .apply(lambda group: group.bfill().ffill())\n"
     ]
    }
   ],
   "source": [
    "#%% Propagate immutable information\n",
    "\n",
    "# Fill missing values within each Individual using forward and backward fill\n",
    "scalar[['PTDOBMM', 'PTDOBYY']] = (\n",
    "    scalar.groupby('Individual')[['PTDOBMM', 'PTDOBYY']]\n",
    "    .apply(lambda group: group.bfill().ffill())\n",
    "    .reset_index(level=0, drop=True)  # Drop extra index added by groupby\n",
    ")"
   ]
  },
  {
   "cell_type": "code",
   "execution_count": 5,
   "id": "aaa0e849",
   "metadata": {},
   "outputs": [],
   "source": [
    "# merge data\n",
    "data = pd.merge(scalar, img, on=['GUID','Individual','TimePoint'])\n",
    "len(data['Individual'].unique()) #2190 id 18388 entry\n",
    "#%% Calculate scan date\n",
    "data['scandate'] = pd.to_datetime(data['Scan date'])\n",
    "data['scandate'] = pd.to_datetime(data['scandate'])#, format='%Y/%m')\n",
    "data0 = data[['Individual', 'AltId', 'TimePoint', 'GUID', 'freesurfer_6_0_0_aparc_thickness_GUID', 'HMSTROKE', 'DXPARK', \n",
    "              'CDGLOBAL', 'MMSCORE',\n",
    "              'PTDOBMM', 'PTDOBYY', 'scandate']]"
   ]
  },
  {
   "cell_type": "code",
   "execution_count": 6,
   "id": "0c37edb8",
   "metadata": {},
   "outputs": [],
   "source": [
    "# Convert date columns to datetime\n",
    "file2['date'] = pd.to_datetime(file2['date'])\n",
    "\n",
    "# Merge dataframes on Individual\n",
    "merged = pd.merge(data0, file2, on='Individual')\n",
    "\n",
    "# Calculate date difference in months\n",
    "merged['date_diff'] = abs((merged['scandate'] - merged['date']).dt.days / 30)\n",
    "\n",
    "# Filter for entries within 3 months\n",
    "adni = merged[merged['date_diff'] <= 3].copy()\n",
    "\n",
    "# Sort by Individual and date difference\n",
    "adni = adni.sort_values(['Individual', 'date_diff'])\n",
    "\n",
    "# Drop duplicates keeping the entry with minimum date difference for each Individual\n",
    "adni0 = adni.drop_duplicates()#(subset=['Individual'], keep='first')\n",
    "\n",
    "# Drop the date_diff column if not needed\n",
    "#adni = adni.drop('date_diff', axis=1)\n"
   ]
  },
  {
   "cell_type": "code",
   "execution_count": 7,
   "id": "6d7f832e",
   "metadata": {
    "vscode": {
     "languageId": "ruby"
    }
   },
   "outputs": [],
   "source": [
    "#Drop all duplicated Ids and keep only the first image\n",
    "adni1 = adni.drop_duplicates(subset=['Individual'], keep='first')"
   ]
  },
  {
   "cell_type": "code",
   "execution_count": 8,
   "id": "b241140c",
   "metadata": {
    "vscode": {
     "languageId": "ruby"
    }
   },
   "outputs": [],
   "source": [
    "#Go back to file names\n",
    "file_names = adni1[['project','Individual',2,3]]"
   ]
  },
  {
   "cell_type": "code",
   "execution_count": 9,
   "id": "ddce757a",
   "metadata": {
    "vscode": {
     "languageId": "ruby"
    }
   },
   "outputs": [
    {
     "data": {
      "text/plain": [
       "Index([                           'Individual',\n",
       "                                       'AltId',\n",
       "                                   'TimePoint',\n",
       "                                        'GUID',\n",
       "       'freesurfer_6_0_0_aparc_thickness_GUID',\n",
       "                                    'HMSTROKE',\n",
       "                                      'DXPARK',\n",
       "                                    'CDGLOBAL',\n",
       "                                     'MMSCORE',\n",
       "                                     'PTDOBMM',\n",
       "                                     'PTDOBYY',\n",
       "                                    'scandate',\n",
       "                                             0,\n",
       "                                             2,\n",
       "                                             3,\n",
       "                                             4,\n",
       "                                             5,\n",
       "                                        'date',\n",
       "                                        'time',\n",
       "                                          'ID',\n",
       "                                       'date0',\n",
       "                                       'time0',\n",
       "                                     'project',\n",
       "                                   'date_diff'],\n",
       "      dtype='object')"
      ]
     },
     "execution_count": 9,
     "metadata": {},
     "output_type": "execute_result"
    }
   ],
   "source": [
    "adni1.columns"
   ]
  },
  {
   "cell_type": "code",
   "execution_count": 10,
   "id": "1648846f",
   "metadata": {
    "vscode": {
     "languageId": "ruby"
    }
   },
   "outputs": [],
   "source": [
    "adni1.to_csv(os.path.join(dir, 'adni_fdg_pet_selection.csv'))"
   ]
  },
  {
   "cell_type": "markdown",
   "id": "6f8e298b",
   "metadata": {},
   "source": [
    "# List for unzip commands"
   ]
  },
  {
   "cell_type": "code",
   "execution_count": 8,
   "id": "c513584f",
   "metadata": {},
   "outputs": [],
   "source": [
    "# Create a list to store all unzip commands\n",
    "unzip_commands = []\n",
    "\n",
    "# Loop through all rows in file_names\n",
    "for idx, row in file_names.iterrows():\n",
    "    row_string = '/'.join(row.astype(str))+'/*'\n",
    "    command = f\"unzip PET.zip -d /scratch/caroline/papers/ongoing/project00/ADNI_analysis/data/images/PET/dcm {row_string}\"\n",
    "    unzip_commands.append(command)\n",
    "\n",
    "# Optional: Save all commands to a bash script for later execution\n",
    "with open(os.path.join(dir, \"unzip_commands.sh\"), \"w\") as f:\n",
    "    f.write(\"#!/bin/bash\\n\\n\")\n",
    "    for cmd in unzip_commands:\n",
    "        f.write(f\"{cmd}\\n\")\n"
   ]
  },
  {
   "cell_type": "markdown",
   "id": "c089bc7e",
   "metadata": {},
   "source": [
    "# File to do the conversion to nifti"
   ]
  },
  {
   "cell_type": "code",
   "execution_count": 13,
   "id": "4adde9f1",
   "metadata": {},
   "outputs": [],
   "source": [
    "file_names_plus = adni1[['project','Individual',2,3,4]]"
   ]
  },
  {
   "cell_type": "code",
   "execution_count": 10,
   "id": "e3c69154",
   "metadata": {},
   "outputs": [],
   "source": [
    "dcm2niix_commands = []\n",
    "\n",
    "# Loop through all rows\n",
    "for idx, row in file_names_plus.iterrows():\n",
    "    row_string = '/'.join(row.astype(str)) + '/*'\n",
    "    \n",
    "    # General output\n",
    "#    command_general = f\"dcm2niix -o /scratch/caroline/papers/ongoing/project00/ADNI_analysis/data/images/PET {row_string}\"\n",
    "#    dcm2niix_commands.append(command_general)\n",
    "\n",
    "    # Individual-specific output (get corresponding ID from adni1)\n",
    "    individual_id = adni1.loc[idx, 'Individual']\n",
    "    command_individual = f\"dcm2niix -o /scratch/caroline/papers/ongoing/project00/ADNI_analysis/data/images/PET/nifti/{individual_id} /scratch/caroline/papers/ongoing/project00/ADNI_analysis/data/images/PET/dcm/{row_string}\"\n",
    "    dcm2niix_commands.append(command_individual)\n",
    "\n",
    "    # Optional: Save all commands to a bash script for later execution\n",
    "    with open(os.path.join(dir, \"dcm2niix_commands.sh\"), \"w\") as f:\n",
    "        f.write(\"#!/bin/bash\\n\\n\")\n",
    "        for cmd in dcm2niix_commands:\n",
    "            f.write(f\"{cmd}\\n\")\n"
   ]
  },
  {
   "cell_type": "code",
   "execution_count": 10,
   "id": "3b0cec05",
   "metadata": {},
   "outputs": [],
   "source": [
    "## Create a bash file to create the folder organization"
   ]
  },
  {
   "cell_type": "code",
   "execution_count": 11,
   "id": "3a149127",
   "metadata": {},
   "outputs": [],
   "source": [
    "# Create mkdir commands for each unique Individual\n",
    "mkdir_commands = []\n",
    "\n",
    "# Loop through unique Individual IDs\n",
    "for individual in adni1['Individual'].unique():\n",
    "    command = f\"mkdir -p /scratch/caroline/papers/ongoing/project00/ADNI_analysis/data/images/PET/nifti/{individual}\"\n",
    "    mkdir_commands.append(command)\n",
    "\n",
    "# Save commands to a bash script\n",
    "with open(os.path.join(dir, \"make_directories.sh\"), \"w\") as f:\n",
    "    f.write(\"#!/bin/bash\\n\\n\")\n",
    "    for cmd in mkdir_commands:\n",
    "        f.write(f\"{cmd}\\n\")"
   ]
  },
  {
   "cell_type": "markdown",
   "id": "3cd8ac02",
   "metadata": {},
   "source": [
    "# Create the config files for petsurfer"
   ]
  },
  {
   "cell_type": "code",
   "execution_count": 37,
   "id": "f4ba706d",
   "metadata": {},
   "outputs": [],
   "source": [
    "individuals = adni1['Individual'].unique()\n",
    "\n",
    "# Directory to save config files\n",
    "output_dir = \"/scratch/caroline/papers/ongoing/project00/ADNI_analysis/code/pet_process/\"\n",
    "os.makedirs(output_dir, exist_ok=True)\n",
    "\n",
    "# Template string for the config file\n",
    "template = \"\"\"#!/bin/bash\n",
    "\n",
    "# configuration file for petprocess.sh\n",
    "# set all pre-requisites, paths and parameters\n",
    "\n",
    "# thread limit for OMP_NUM_THREADS and ITK_GLOBAL_DEFAULT_NUMBER_OF_THREADS\n",
    "max_threads=2\n",
    "\n",
    "# pre-requisite toolbox: path to freesurfer\n",
    "freesurfer_path=/usr/local/freesurfer-7.4.1\n",
    "\n",
    "# pre-requisite toolbox: path to fsl\n",
    "fsl_path=/usr/local/fsl-6.0.7.6\n",
    "\n",
    "# input: path to pet scan\n",
    "pet_source=\"/scratch/caroline/papers/ongoing/project00/ADNI_analysis/data/images/PET/nifti/{individual}\"\n",
    "\n",
    "# input: path to mri freesurfer output\n",
    "#mri_source=mri_path\n",
    "mri_source=/diskstation/CG/adni/processing/freesurfer/6.0.0\n",
    "# mri_source=/diskstation/CG/adni/processing/freesurferLongitudinal/6.0.0\n",
    "\n",
    "# specify either reference region 1 or reference region 2\n",
    "# reference region 1 (use for fdg pet)\n",
    "ref=174\n",
    "ref_name=\"pons\"\n",
    "\n",
    "# reference region 2 (use for tau pet)\n",
    "#ref=(8 47)\n",
    "#ref_name=\"cerebellum_cortex\"\n",
    "\n",
    "# path to R script (petsurfer_scalar_to_csv.R) to save scalar output as csv file\n",
    "rscript_path=\"/scratch/caroline/papers/ongoing/project00/ADNI_analysis/code/petsurfer\"\n",
    "\n",
    "# list of output files to be saved (all output except those specified will be removed)\n",
    "keep_list=/scratch/caroline/papers/ongoing/project00/ADNI_analysis/code/petsurfer/keeplist.txt\n",
    "\n",
    "# set to 1 to clean up the output after processing\n",
    "cleanup=1\n",
    "\"\"\"\n",
    "\n",
    "# Loop through each individual and create a config file\n",
    "for individual in individuals:\n",
    "    filename = os.path.join(output_dir, f\"config_{individual}.sh\")\n",
    "    with open(filename, 'w') as f:\n",
    "        f.write(template.format(individual=individual))\n"
   ]
  },
  {
   "cell_type": "code",
   "execution_count": null,
   "id": "84e3646f",
   "metadata": {},
   "outputs": [],
   "source": [
    "#Rename files in folders to match the Id\n",
    "# Create a list to store all rename commands\n",
    "rename_commands = []\n",
    "\n",
    "# Loop through unique Individual IDs\n",
    "for individual in individuals:\n",
    "    # Generate the rename command\n",
    "    command = f\"\"\"\n",
    "cd /scratch/caroline/papers/ongoing/project00/ADNI_analysis/data/images/PET/nifti/{individual}\n",
    "for f in *; do\n",
    "    if [ -f \"$f\" ]; then\n",
    "        ext=\"${{f##*.}}\"\n",
    "        mv \"$f\" \"{individual}.$ext\"\n",
    "    fi\n",
    "done\n",
    "\"\"\"\n",
    "    rename_commands.append(command)\n",
    "\n",
    "# Save commands to a bash script\n",
    "with open(os.path.join(dir, \"rename_files.sh\"), \"w\") as f:\n",
    "    f.write(\"#!/bin/bash\\n\\n\")\n",
    "    for cmd in rename_commands:\n",
    "        f.write(f\"{cmd}\\n\")"
   ]
  },
  {
   "cell_type": "code",
   "execution_count": 38,
   "id": "7f8e1876",
   "metadata": {},
   "outputs": [],
   "source": [
    "# Create a list to store all gzip commands\n",
    "gzip_commands = []\n",
    "\n",
    "# Loop through unique Individual IDs\n",
    "for individual in individuals:\n",
    "    # Generate the gzip command\n",
    "    command = f\"\"\"\n",
    "cd /scratch/caroline/papers/ongoing/project00/ADNI_analysis/data/images/PET/nifti/{individual}\n",
    "for f in *.nii; do\n",
    "    if [ -f \"$f\" ]; then\n",
    "        gzip \"$f\"\n",
    "    fi\n",
    "done\n",
    "\"\"\"\n",
    "    gzip_commands.append(command)\n",
    "\n",
    "# Save commands to a bash script\n",
    "with open(os.path.join(dir, \"gzip_files.sh\"), \"w\") as f:\n",
    "    f.write(\"#!/bin/bash\\n\\n\")\n",
    "    for cmd in gzip_commands:\n",
    "        f.write(f\"{cmd}\\n\")"
   ]
  },
  {
   "cell_type": "markdown",
   "id": "f3de8b2e",
   "metadata": {},
   "source": [
    "# Create the qsub for all IDs"
   ]
  },
  {
   "cell_type": "code",
   "execution_count": 40,
   "id": "450edee2",
   "metadata": {},
   "outputs": [],
   "source": [
    "# Create the queue sub based on a template to all images\n",
    "out_path = \"/scratch/caroline/papers/ongoing/project00/ADNI_analysis/data/images/PET/processed/\"\n",
    "\n",
    "template_sub = []\n",
    "\n",
    "for _, row in adni1[[\"Individual\", \"freesurfer_6_0_0_aparc_thickness_GUID\"]].iterrows():\n",
    "    pet_guid = row[\"Individual\"]\n",
    "    freesurfer_guid = row[\"freesurfer_6_0_0_aparc_thickness_GUID\"]\n",
    "    output_path = \"/scratch/caroline/papers/ongoing/project00/ADNI_analysis/data/images/PET/processed/\"\n",
    "    output_guid = pet_guid\n",
    "    config_file = f\"/scratch/caroline/papers/ongoing/project00/ADNI_analysis/code/pet_process/config_{pet_guid}.sh\"\n",
    "    template = (f\"\"\"qsub -q all.q@saga.cgland -S /bin/bash -cwd petprocess.sh -p {pet_guid} -f {freesurfer_guid} -o {output_path} -g {output_guid} -s {config_file}\"\"\")\n",
    "    template_sub.append(template)\n",
    "\n",
    "out_files = \"/scratch/caroline/papers/ongoing/project00/ADNI_analysis/code/\"\n",
    "# Save commands to a bash script\n",
    "queue_script = os.path.join(out_files, \"queue_commands.sh\")\n",
    "with open(queue_script, \"w\") as f:\n",
    "    f.write(\"#!/bin/bash\\n\\n\")\n",
    "    for cmd in template_sub:\n",
    "        f.write(f\"{cmd}\\n\")"
   ]
  },
  {
   "cell_type": "markdown",
   "id": "9454c4ea",
   "metadata": {},
   "source": [
    "## If you want to do this on a bash taking the input from the csv file"
   ]
  },
  {
   "cell_type": "code",
   "execution_count": null,
   "id": "2dee5555",
   "metadata": {},
   "outputs": [],
   "source": [
    "# adni2 = adni1[['Individual', 'freesurfer_6_0_0_aparc_thickness_GUID']]\n",
    "# adni2.to_csv(os.path.join(dir, 'queue.csv'), index=False)"
   ]
  },
  {
   "cell_type": "code",
   "execution_count": null,
   "id": "65ac8b51",
   "metadata": {
    "vscode": {
     "languageId": "shellscript"
    }
   },
   "outputs": [],
   "source": [
    "# output_path=\"/scratch/caroline/papers/ongoing/project00/ADNI_analysis/data/images/PET/processed/\"\n",
    "\n",
    "# tail -n +1 \"${1}\" | while IFS=, read -r Individual freesurfer_6_0_0_aparc_thickness_GUID; do\n",
    "\n",
    "#     echo \"Running $Individual\"\n",
    "#     config_file=\"/scratch/caroline/papers/ongoing/project00/ADNI_analysis/code/pet_process/config_${Individual}.sh\"\n",
    "#     echo \"qsub -q all.q@saga.cgland -S /bin/bash -cwd petprocess.sh -p ${Individual} -f ${freesurfer_6_0_0_aparc_thickness_GUID} -o ${output_path} -g ${Individual} -s ${config_file}\"\n",
    "    \n",
    "# done"
   ]
  },
  {
   "cell_type": "code",
   "execution_count": null,
   "id": "ccae766a",
   "metadata": {
    "vscode": {
     "languageId": "shellscript"
    }
   },
   "outputs": [
    {
     "data": {
      "application/vnd.microsoft.datawrangler.viewer.v0+json": {
       "columns": [
        {
         "name": "index",
         "rawType": "int64",
         "type": "integer"
        },
        {
         "name": "Individual",
         "rawType": "object",
         "type": "string"
        },
        {
         "name": "freesurfer_6_0_0_aparc_thickness_GUID",
         "rawType": "object",
         "type": "string"
        }
       ],
       "ref": "592185f9-18f1-4abb-9024-71cfd2e8ccc6",
       "rows": [
        [
         "1152",
         "002_S_0295",
         "290c2ed0-c79b-468a-9c63-a8b27374a024"
        ],
        [
         "5952",
         "002_S_0413",
         "07a899f8-98d8-4b92-9419-bc5c6d61fe11"
        ],
        [
         "10848",
         "002_S_0685",
         "4ce6a3d7-f0cb-4022-9d40-79758b761264"
        ],
        [
         "15552",
         "002_S_0729",
         "2cf4c520-5081-4620-9fa6-eccd463e2990"
        ],
        [
         "20832",
         "002_S_1155",
         "027f63a7-9434-433d-99b7-cda263d4c4b1"
        ],
        [
         "28800",
         "002_S_1261",
         "183b302e-570f-4de8-97a3-cc91ff5f8041"
        ],
        [
         "34656",
         "002_S_1268",
         "3576c12c-8b55-4ed2-9dee-292a50ba5041"
        ],
        [
         "39072",
         "002_S_1280",
         "0b396ac4-f131-4c10-9e75-5594cbc6c424"
        ],
        [
         "43008",
         "002_S_2010",
         "28c2d888-6d14-4b00-99c0-d7406c0a6400"
        ],
        [
         "44064",
         "002_S_2043",
         "0b82d227-5079-42ec-94a7-3a467ca9a284"
        ],
        [
         "46272",
         "002_S_2073",
         "308ebfdc-57d7-4302-9ebc-fb20b7d7c624"
        ],
        [
         "47712",
         "002_S_4171",
         "137506ff-a1df-4b4f-95d0-b0facc45ecc1"
        ],
        [
         "51072",
         "002_S_4213",
         "3f5910ea-c562-4e3d-92ca-ba7150d493e9"
        ],
        [
         "52128",
         "002_S_4219",
         "286275c5-684e-4bdc-9669-7012bf5c37f1"
        ],
        [
         "55392",
         "002_S_4225",
         "052b9839-bf1b-401e-96ce-2506b7f08849"
        ],
        [
         "56064",
         "002_S_4229",
         "01652ef0-05d8-4e3d-9041-1b8116b38849"
        ],
        [
         "61824",
         "002_S_4237",
         "ccf30167-8c6c-4a80-9988-91a5130e4000"
        ],
        [
         "62304",
         "002_S_4251",
         "2a1f5448-8f77-48f5-9015-737b42f81b11"
        ],
        [
         "64320",
         "002_S_4262",
         "2f3250d8-0e3f-48f6-9e04-e463608f0bf1"
        ],
        [
         "67008",
         "002_S_4270",
         "2c81cabc-f423-44ef-902c-4b2f39b131d1"
        ],
        [
         "69312",
         "002_S_4447",
         "07f32b11-796b-4e1f-90cf-c77190a773a9"
        ],
        [
         "71808",
         "002_S_4473",
         "00077b9e-1415-4817-914a-858a013e8e41"
        ],
        [
         "74496",
         "002_S_4521",
         "2de89c17-cbb6-483b-9d39-2a9941b3bf51"
        ],
        [
         "78240",
         "002_S_4654",
         "36843f37-e0fa-4e00-98fa-df785240f840"
        ],
        [
         "79872",
         "002_S_4746",
         "006dafed-75cc-4b56-9007-6c93969b8be4"
        ],
        [
         "80736",
         "002_S_4799",
         "430ec20d-ac19-4c26-9044-35d7c4632f69"
        ],
        [
         "83520",
         "002_S_5018",
         "1b2900b9-c0bf-4d24-95d8-b0d3dd1b1c64"
        ],
        [
         "84384",
         "002_S_5178",
         "029b5c64-d812-4fc0-902d-1be250539911"
        ],
        [
         "85344",
         "002_S_5230",
         "131eae75-07e6-4b2e-95cc-3a3041e2c7a4"
        ],
        [
         "86304",
         "002_S_5256",
         "9bbd13a2-3a0d-4860-981e-38ca8a7c2390"
        ],
        [
         "86880",
         "002_S_6652",
         "15a74db5-2ccf-4ed5-9693-6598821aab21"
        ],
        [
         "87072",
         "002_S_6695",
         "742a3944-407b-4520-948a-c1810126cd49"
        ],
        [
         "89088",
         "003_S_0907",
         "0740f830-24da-4a92-93ee-6e26d0a24004"
        ],
        [
         "94272",
         "003_S_0908",
         "44a7b4ce-f403-45af-9421-5dddf0c23b09"
        ],
        [
         "98688",
         "003_S_0981",
         "415202d6-bca8-4ffa-951b-1f8514ec7624"
        ],
        [
         "105984",
         "003_S_1057",
         "340ac7d9-28a9-4362-9dc7-734e10727384"
        ],
        [
         "110496",
         "003_S_1059",
         "0988cdfc-c45b-480b-915f-cd1a4aa804b9"
        ],
        [
         "116928",
         "003_S_1074",
         "0692c8ba-1985-4006-93f4-40f7953021e9"
        ],
        [
         "138720",
         "003_S_1122",
         "86cbf94e-a737-45d0-970e-24359386bd10"
        ],
        [
         "152736",
         "003_S_1257",
         "32e36f81-6799-4fb0-95ba-3b297adfbde4"
        ],
        [
         "154752",
         "003_S_2374",
         "6d806222-c0a1-462f-91f3-4ab8b0aaba91"
        ],
        [
         "156000",
         "003_S_4081",
         "420571ff-e5ca-4366-9682-ab7d126d7f44"
        ],
        [
         "157536",
         "003_S_4119",
         "28b34693-0016-4450-91e2-a20f044cf040"
        ],
        [
         "158400",
         "003_S_4136",
         "3b28949c-11bd-4f54-9ccb-874bb57d2210"
        ],
        [
         "159168",
         "003_S_4152",
         "04a687dd-c07a-48a6-90ae-b56933c1f524"
        ],
        [
         "161184",
         "003_S_4288",
         "4a62e2e2-6317-4fb0-94c4-7f92c2e45100"
        ],
        [
         "163296",
         "003_S_4350",
         "2bd604b1-2fc3-4335-95e9-9ffd8b310c51"
        ],
        [
         "166848",
         "003_S_4354",
         "87f0d09b-9281-496b-96fa-01c5afe92519"
        ],
        [
         "168480",
         "003_S_4373",
         "070ed592-3786-4670-92c1-bfe46064dba1"
        ],
        [
         "170112",
         "003_S_4441",
         "5e3fb663-f280-46ce-972b-e7472eeab224"
        ]
       ],
       "shape": {
        "columns": 2,
        "rows": 1560
       }
      },
      "text/html": [
       "<div>\n",
       "<style scoped>\n",
       "    .dataframe tbody tr th:only-of-type {\n",
       "        vertical-align: middle;\n",
       "    }\n",
       "\n",
       "    .dataframe tbody tr th {\n",
       "        vertical-align: top;\n",
       "    }\n",
       "\n",
       "    .dataframe thead th {\n",
       "        text-align: right;\n",
       "    }\n",
       "</style>\n",
       "<table border=\"1\" class=\"dataframe\">\n",
       "  <thead>\n",
       "    <tr style=\"text-align: right;\">\n",
       "      <th></th>\n",
       "      <th>Individual</th>\n",
       "      <th>freesurfer_6_0_0_aparc_thickness_GUID</th>\n",
       "    </tr>\n",
       "  </thead>\n",
       "  <tbody>\n",
       "    <tr>\n",
       "      <th>1152</th>\n",
       "      <td>002_S_0295</td>\n",
       "      <td>290c2ed0-c79b-468a-9c63-a8b27374a024</td>\n",
       "    </tr>\n",
       "    <tr>\n",
       "      <th>5952</th>\n",
       "      <td>002_S_0413</td>\n",
       "      <td>07a899f8-98d8-4b92-9419-bc5c6d61fe11</td>\n",
       "    </tr>\n",
       "    <tr>\n",
       "      <th>10848</th>\n",
       "      <td>002_S_0685</td>\n",
       "      <td>4ce6a3d7-f0cb-4022-9d40-79758b761264</td>\n",
       "    </tr>\n",
       "    <tr>\n",
       "      <th>15552</th>\n",
       "      <td>002_S_0729</td>\n",
       "      <td>2cf4c520-5081-4620-9fa6-eccd463e2990</td>\n",
       "    </tr>\n",
       "    <tr>\n",
       "      <th>20832</th>\n",
       "      <td>002_S_1155</td>\n",
       "      <td>027f63a7-9434-433d-99b7-cda263d4c4b1</td>\n",
       "    </tr>\n",
       "    <tr>\n",
       "      <th>...</th>\n",
       "      <td>...</td>\n",
       "      <td>...</td>\n",
       "    </tr>\n",
       "    <tr>\n",
       "      <th>4282752</th>\n",
       "      <td>941_S_6052</td>\n",
       "      <td>188b3446-2c17-4611-9e5f-a0cf12e73d11</td>\n",
       "    </tr>\n",
       "    <tr>\n",
       "      <th>4282944</th>\n",
       "      <td>941_S_6068</td>\n",
       "      <td>1a70c69c-8730-4ba5-9cd1-798577b0dff1</td>\n",
       "    </tr>\n",
       "    <tr>\n",
       "      <th>4283232</th>\n",
       "      <td>941_S_6345</td>\n",
       "      <td>088c7d78-2021-4820-93c8-e66b1cc14e64</td>\n",
       "    </tr>\n",
       "    <tr>\n",
       "      <th>4283520</th>\n",
       "      <td>941_S_6803</td>\n",
       "      <td>3e04e375-ea4e-4fea-98f8-d2f07d036404</td>\n",
       "    </tr>\n",
       "    <tr>\n",
       "      <th>4283616</th>\n",
       "      <td>941_S_6854</td>\n",
       "      <td>3d2f6bd8-6f89-4399-93b1-14ae836e2ed1</td>\n",
       "    </tr>\n",
       "  </tbody>\n",
       "</table>\n",
       "<p>1560 rows × 2 columns</p>\n",
       "</div>"
      ],
      "text/plain": [
       "         Individual freesurfer_6_0_0_aparc_thickness_GUID\n",
       "1152     002_S_0295  290c2ed0-c79b-468a-9c63-a8b27374a024\n",
       "5952     002_S_0413  07a899f8-98d8-4b92-9419-bc5c6d61fe11\n",
       "10848    002_S_0685  4ce6a3d7-f0cb-4022-9d40-79758b761264\n",
       "15552    002_S_0729  2cf4c520-5081-4620-9fa6-eccd463e2990\n",
       "20832    002_S_1155  027f63a7-9434-433d-99b7-cda263d4c4b1\n",
       "...             ...                                   ...\n",
       "4282752  941_S_6052  188b3446-2c17-4611-9e5f-a0cf12e73d11\n",
       "4282944  941_S_6068  1a70c69c-8730-4ba5-9cd1-798577b0dff1\n",
       "4283232  941_S_6345  088c7d78-2021-4820-93c8-e66b1cc14e64\n",
       "4283520  941_S_6803  3e04e375-ea4e-4fea-98f8-d2f07d036404\n",
       "4283616  941_S_6854  3d2f6bd8-6f89-4399-93b1-14ae836e2ed1\n",
       "\n",
       "[1560 rows x 2 columns]"
      ]
     },
     "execution_count": 53,
     "metadata": {},
     "output_type": "execute_result"
    }
   ],
   "source": [
    "#adni2"
   ]
  }
 ],
 "metadata": {
  "kernelspec": {
   "display_name": "workspace",
   "language": "python",
   "name": "python3"
  },
  "language_info": {
   "codemirror_mode": {
    "name": "ipython",
    "version": 3
   },
   "file_extension": ".py",
   "mimetype": "text/x-python",
   "name": "python",
   "nbconvert_exporter": "python",
   "pygments_lexer": "ipython3",
   "version": "3.12.10"
  }
 },
 "nbformat": 4,
 "nbformat_minor": 5
}
